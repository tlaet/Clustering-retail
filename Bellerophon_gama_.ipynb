{
  "nbformat": 4,
  "nbformat_minor": 0,
  "metadata": {
    "colab": {
      "name": "Bellerophon_gama .ipynb",
      "provenance": [],
      "collapsed_sections": [],
      "mount_file_id": "1yXXPWoQ_JlVD6pKx_jit4qiqO-V3Lrid",
      "authorship_tag": "ABX9TyNF2mwXpeRxEU4IjmbD5SqD",
      "include_colab_link": true
    },
    "kernelspec": {
      "name": "python3",
      "display_name": "Python 3"
    },
    "language_info": {
      "name": "python"
    }
  },
  "cells": [
    {
      "cell_type": "markdown",
      "metadata": {
        "id": "view-in-github",
        "colab_type": "text"
      },
      "source": [
        "<a href=\"https://colab.research.google.com/github/tlaet/Clustering-retail/blob/master/Bellerophon_gama_.ipynb\" target=\"_parent\"><img src=\"https://colab.research.google.com/assets/colab-badge.svg\" alt=\"Open In Colab\"/></a>"
      ]
    },
    {
      "cell_type": "code",
      "metadata": {
        "id": "7Uszt0iDOugK"
      },
      "source": [
        "from datetime import timedelta\n",
        "import pandas as pd\n",
        "import numpy as np\n",
        "import seaborn as sns\n",
        "import matplotlib.pyplot as plt\n",
        "import os\n",
        "import glob"
      ],
      "execution_count": null,
      "outputs": []
    },
    {
      "cell_type": "code",
      "metadata": {
        "id": "AZU9g8xPO7_o",
        "colab": {
          "base_uri": "https://localhost:8080/"
        },
        "outputId": "173b6233-9133-473f-a275-e57c064c7c0b"
      },
      "source": [
        "from google.colab import drive\n",
        "drive.mount('/content/gdrive')"
      ],
      "execution_count": null,
      "outputs": [
        {
          "output_type": "stream",
          "text": [
            "Mounted at /content/gdrive\n"
          ],
          "name": "stdout"
        }
      ]
    },
    {
      "cell_type": "code",
      "metadata": {
        "id": "O0ALwMbwPEPl",
        "colab": {
          "base_uri": "https://localhost:8080/"
        },
        "outputId": "8a3e104c-0eb8-4f3c-e6cd-76d168a528a6"
      },
      "source": [
        "path = r'/content/gdrive/MyDrive/04. Personal projects/94.data science/dasa_forecast/data' # use your path\n",
        "all_files = glob.glob(path + \"/*.csv\")\n",
        "\n",
        "li = []\n",
        "\n",
        "for filename in all_files:\n",
        "    df = pd.read_csv(filename,encoding='latin-1',decimal=',',thousands='.', usecols = ['Texto breve de material',\n",
        "                                                             'Material',\n",
        "                                                             'Nome 1',\n",
        "                                                             'Centro',\n",
        "                                                             'Data de lançamento',\n",
        "                                                             'Qtd.  UM registro',\n",
        "                                                             'Montante em MI',\n",
        "                                                             'Tipo de movimento'\n",
        "                                                            ], sep=';',index_col=None, header=0)\n",
        "    li.append(df)\n",
        "\n",
        "df = pd.concat(li, axis=0, ignore_index=True)"
      ],
      "execution_count": null,
      "outputs": [
        {
          "output_type": "stream",
          "text": [
            "/usr/local/lib/python3.7/dist-packages/IPython/core/interactiveshell.py:2718: DtypeWarning: Columns (4) have mixed types.Specify dtype option on import or set low_memory=False.\n",
            "  interactivity=interactivity, compiler=compiler, result=result)\n"
          ],
          "name": "stderr"
        }
      ]
    },
    {
      "cell_type": "code",
      "metadata": {
        "colab": {
          "base_uri": "https://localhost:8080/",
          "height": 320
        },
        "id": "f1VENYYyeYEK",
        "outputId": "e6357a83-1ab7-42a2-93b6-771df63830bd"
      },
      "source": [
        "\n",
        "# initialize list of lists\n",
        "inventory_class = [['AX','Alto valor de consumo','Demanda estável','Previsão confiável','Automático','JIT, VMI, Consignação, transferência da resposabilidade para o fornecedor','Continuo'], \n",
        "        ['AY', 'Alto valor de consumo','Variação da demanda previsivel','Previsão menos confiável','Automático com intervenção manual','Baixo, risco de stock out aceito','Continuo'], \n",
        "        ['AZ', 'Alto valor de consumo','Demanda intermitente ou variável','Previsão ímpossivel ou não confiável','Buy to order','Nenhum','Não estocado'],\n",
        "        ['BX','Médio valor de consumo','Demanda estável','Previsão confiável','Automático com intervenção manual','Baixo, risco de stock out aceito','Inspeção periódica'],\n",
        "        ['BY','Médio valor de consumo','Variação da demanda previsivel','Previsão menos confiável','Automático com intervenção manual','Ajustado segundo a sazonalidade','Inspeção periódica'],\n",
        "        ['BZ','Médio valor de consumo','Demanda intermitente ou variável','Previsão ímpossivel ou não confiável','Buy to order','Nenhum, cliente compreende o leadtime','Não estocado'],\n",
        "        ['CX','Baixo valor de consumo','Demanda estável','Previsão confiável','Automático','Alto','Inspeção periódica'],\n",
        "        ['CY','Baixo valor de consumo','Variação da demanda previsivel','Previsão menos confiável','Automático','Alto','Inspeção periódica'],\n",
        "        ['CZ','Baixo valor de consumo','Demanda intermitente ou variável','Previsão ímpossivel ou não confiável','Automático','Alto','Inspeção periódica']]\n",
        "  \n",
        "# Create the pandas DataFrame\n",
        "inventory_category = pd.DataFrame(inventory_class, columns = ['abc_xyz_class', \n",
        "                                                   'Comportamento de consumo',\n",
        "                                                   'Comportamento de demanda',\n",
        "                                                   'Confiabilidade da previsão',\n",
        "                                                   'Modelo de abastecimento',\n",
        "                                                   'Estoque de segurança',\n",
        "                                                   'Controle do inventário'\n",
        "                                                   ])\n",
        "  \n",
        "# print dataframe.\n",
        "inventory_category"
      ],
      "execution_count": null,
      "outputs": [
        {
          "output_type": "execute_result",
          "data": {
            "text/html": [
              "<div>\n",
              "<style scoped>\n",
              "    .dataframe tbody tr th:only-of-type {\n",
              "        vertical-align: middle;\n",
              "    }\n",
              "\n",
              "    .dataframe tbody tr th {\n",
              "        vertical-align: top;\n",
              "    }\n",
              "\n",
              "    .dataframe thead th {\n",
              "        text-align: right;\n",
              "    }\n",
              "</style>\n",
              "<table border=\"1\" class=\"dataframe\">\n",
              "  <thead>\n",
              "    <tr style=\"text-align: right;\">\n",
              "      <th></th>\n",
              "      <th>abc_xyz_class</th>\n",
              "      <th>Comportamento de consumo</th>\n",
              "      <th>Comportamento de demanda</th>\n",
              "      <th>Confiabilidade da previsão</th>\n",
              "      <th>Modelo de abastecimento</th>\n",
              "      <th>Estoque de segurança</th>\n",
              "      <th>Controle do inventário</th>\n",
              "    </tr>\n",
              "  </thead>\n",
              "  <tbody>\n",
              "    <tr>\n",
              "      <th>0</th>\n",
              "      <td>AX</td>\n",
              "      <td>Alto valor de consumo</td>\n",
              "      <td>Demanda estável</td>\n",
              "      <td>Previsão confiável</td>\n",
              "      <td>Automático</td>\n",
              "      <td>JIT, VMI, Consignação, transferência da respos...</td>\n",
              "      <td>Continuo</td>\n",
              "    </tr>\n",
              "    <tr>\n",
              "      <th>1</th>\n",
              "      <td>AY</td>\n",
              "      <td>Alto valor de consumo</td>\n",
              "      <td>Variação da demanda previsivel</td>\n",
              "      <td>Previsão menos confiável</td>\n",
              "      <td>Automático com intervenção manual</td>\n",
              "      <td>Baixo, risco de stock out aceito</td>\n",
              "      <td>Continuo</td>\n",
              "    </tr>\n",
              "    <tr>\n",
              "      <th>2</th>\n",
              "      <td>AZ</td>\n",
              "      <td>Alto valor de consumo</td>\n",
              "      <td>Demanda intermitente ou variável</td>\n",
              "      <td>Previsão ímpossivel ou não confiável</td>\n",
              "      <td>Buy to order</td>\n",
              "      <td>Nenhum</td>\n",
              "      <td>Não estocado</td>\n",
              "    </tr>\n",
              "    <tr>\n",
              "      <th>3</th>\n",
              "      <td>BX</td>\n",
              "      <td>Médio valor de consumo</td>\n",
              "      <td>Demanda estável</td>\n",
              "      <td>Previsão confiável</td>\n",
              "      <td>Automático com intervenção manual</td>\n",
              "      <td>Baixo, risco de stock out aceito</td>\n",
              "      <td>Inspeção periódica</td>\n",
              "    </tr>\n",
              "    <tr>\n",
              "      <th>4</th>\n",
              "      <td>BY</td>\n",
              "      <td>Médio valor de consumo</td>\n",
              "      <td>Variação da demanda previsivel</td>\n",
              "      <td>Previsão menos confiável</td>\n",
              "      <td>Automático com intervenção manual</td>\n",
              "      <td>Ajustado segundo a sazonalidade</td>\n",
              "      <td>Inspeção periódica</td>\n",
              "    </tr>\n",
              "    <tr>\n",
              "      <th>5</th>\n",
              "      <td>BZ</td>\n",
              "      <td>Médio valor de consumo</td>\n",
              "      <td>Demanda intermitente ou variável</td>\n",
              "      <td>Previsão ímpossivel ou não confiável</td>\n",
              "      <td>Buy to order</td>\n",
              "      <td>Nenhum, cliente compreende o leadtime</td>\n",
              "      <td>Não estocado</td>\n",
              "    </tr>\n",
              "    <tr>\n",
              "      <th>6</th>\n",
              "      <td>CX</td>\n",
              "      <td>Baixo valor de consumo</td>\n",
              "      <td>Demanda estável</td>\n",
              "      <td>Previsão confiável</td>\n",
              "      <td>Automático</td>\n",
              "      <td>Alto</td>\n",
              "      <td>Inspeção periódica</td>\n",
              "    </tr>\n",
              "    <tr>\n",
              "      <th>7</th>\n",
              "      <td>CY</td>\n",
              "      <td>Baixo valor de consumo</td>\n",
              "      <td>Variação da demanda previsivel</td>\n",
              "      <td>Previsão menos confiável</td>\n",
              "      <td>Automático</td>\n",
              "      <td>Alto</td>\n",
              "      <td>Inspeção periódica</td>\n",
              "    </tr>\n",
              "    <tr>\n",
              "      <th>8</th>\n",
              "      <td>CZ</td>\n",
              "      <td>Baixo valor de consumo</td>\n",
              "      <td>Demanda intermitente ou variável</td>\n",
              "      <td>Previsão ímpossivel ou não confiável</td>\n",
              "      <td>Automático</td>\n",
              "      <td>Alto</td>\n",
              "      <td>Inspeção periódica</td>\n",
              "    </tr>\n",
              "  </tbody>\n",
              "</table>\n",
              "</div>"
            ],
            "text/plain": [
              "  abc_xyz_class  ... Controle do inventário\n",
              "0            AX  ...               Continuo\n",
              "1            AY  ...               Continuo\n",
              "2            AZ  ...           Não estocado\n",
              "3            BX  ...     Inspeção periódica\n",
              "4            BY  ...     Inspeção periódica\n",
              "5            BZ  ...           Não estocado\n",
              "6            CX  ...     Inspeção periódica\n",
              "7            CY  ...     Inspeção periódica\n",
              "8            CZ  ...     Inspeção periódica\n",
              "\n",
              "[9 rows x 7 columns]"
            ]
          },
          "metadata": {
            "tags": []
          },
          "execution_count": 6
        }
      ]
    },
    {
      "cell_type": "code",
      "metadata": {
        "colab": {
          "base_uri": "https://localhost:8080/"
        },
        "id": "O1dmrYkfRj7l",
        "outputId": "6138b494-11f9-4c0f-d7d8-648380648080"
      },
      "source": [
        "df.isna().sum()"
      ],
      "execution_count": null,
      "outputs": [
        {
          "output_type": "execute_result",
          "data": {
            "text/plain": [
              "Material                      0\n",
              "Texto breve de material       0\n",
              "Centro                        0\n",
              "Nome 1                     5581\n",
              "Tipo de movimento             0\n",
              "Data de lançamento            0\n",
              "Qtd.  UM registro             0\n",
              "Montante em MI                0\n",
              "dtype: int64"
            ]
          },
          "metadata": {
            "tags": []
          },
          "execution_count": 7
        }
      ]
    },
    {
      "cell_type": "code",
      "metadata": {
        "id": "R6i9mbNURnqq"
      },
      "source": [
        "df[\"Qtd.  UM registro\"] = df[\"Qtd.  UM registro\"].astype(\"int64\")\n",
        "df[\"Qtd.  UM registro\"] = abs(df[\"Qtd.  UM registro\"])\n",
        "df.rename(columns={\"Qtd.  UM registro\": 'Consumo'},inplace=True)\n",
        "\n",
        "df[\"Tipo de movimento\"] = df[\"Tipo de movimento\"].astype(\"string\")\n",
        "df.rename(columns={'Tipo de movimento': 'Movimento'},inplace=True)\n",
        "\n",
        "df[\"Texto breve de material\"] = df[\"Texto breve de material\"].astype(\"string\")\n",
        "df.rename(columns={'Texto breve de material': 'Descricao'},inplace=True)\n",
        "\n",
        "df['Centro'] = df[\"Centro\"].astype(\"string\")\n",
        "\n",
        "df[\"Material\"] = df[\"Material\"].astype(\"string\")\n",
        "df.rename(columns={'Material': 'Sku'},inplace=True)\n",
        "\n",
        "df[\"Nome 1\"] = df[\"Nome 1\"].astype(\"string\")\n",
        "df.rename(columns={'Nome 1': 'Nome'},inplace=True)\n",
        "\n",
        "df['Data de lançamento'] = pd.to_datetime(df['Data de lançamento'],format='%d/%m/%Y')\n",
        "df.rename(columns={'Data de lançamento': 'Data'},inplace=True)\n",
        "\n",
        "df[\"Montante em MI\"] = df[\"Montante em MI\"].astype(\"int64\")\n",
        "df[\"Montante em MI\"] = abs(df[\"Montante em MI\"])\n",
        "df.rename(columns={'Montante em MI': 'Receita'},inplace=True)"
      ],
      "execution_count": null,
      "outputs": []
    },
    {
      "cell_type": "code",
      "metadata": {
        "id": "B21sKwbYBYAp"
      },
      "source": [
        "df['Tipo']='Unidade'"
      ],
      "execution_count": null,
      "outputs": []
    },
    {
      "cell_type": "code",
      "metadata": {
        "id": "Kzrr3XxrBR5O"
      },
      "source": [
        "df.loc[df['Nome'].str.contains('ARMAZEM'), 'Tipo'] = 'Armazém'"
      ],
      "execution_count": null,
      "outputs": []
    },
    {
      "cell_type": "code",
      "metadata": {
        "id": "gAHqrmF9RsHz"
      },
      "source": [
        "df = df.drop(df[(df['Movimento'] !='641') & (df['Movimento'] !='642')&(df['Movimento'] !='647')& (df['Movimento'] !='648')].index)#641,647\n",
        "df = df.drop(df[(df['Tipo'] =='Unidade')].index)"
      ],
      "execution_count": null,
      "outputs": []
    },
    {
      "cell_type": "code",
      "metadata": {
        "id": "lj7izAuT5PgV"
      },
      "source": [
        "lista_nomes_sku =df.drop(columns=['Movimento','Consumo','Receita','Data','Centro','Nome'])"
      ],
      "execution_count": null,
      "outputs": []
    },
    {
      "cell_type": "code",
      "metadata": {
        "id": "bgqTC4xfBKtL"
      },
      "source": [
        "lista_nomes_sku = lista_nomes_sku.drop_duplicates()"
      ],
      "execution_count": null,
      "outputs": []
    },
    {
      "cell_type": "code",
      "metadata": {
        "id": "nYDN96FUAMNR"
      },
      "source": [
        "lista_nomes_centro = df.drop(columns=['Movimento','Consumo','Receita','Data','Sku','Descricao'])"
      ],
      "execution_count": null,
      "outputs": []
    },
    {
      "cell_type": "code",
      "metadata": {
        "id": "m5AV8jAT5w7r"
      },
      "source": [
        "lista_nomes_centro = lista_nomes_centro.drop_duplicates()"
      ],
      "execution_count": null,
      "outputs": []
    },
    {
      "cell_type": "code",
      "metadata": {
        "colab": {
          "base_uri": "https://localhost:8080/",
          "height": 408
        },
        "id": "wLt_q6yw1qct",
        "outputId": "30aff0db-66c0-440d-9566-098f5c1d8aae"
      },
      "source": [
        "df.sort_values('Movimento', ascending=False)"
      ],
      "execution_count": null,
      "outputs": [
        {
          "output_type": "execute_result",
          "data": {
            "text/html": [
              "<div>\n",
              "<style scoped>\n",
              "    .dataframe tbody tr th:only-of-type {\n",
              "        vertical-align: middle;\n",
              "    }\n",
              "\n",
              "    .dataframe tbody tr th {\n",
              "        vertical-align: top;\n",
              "    }\n",
              "\n",
              "    .dataframe thead th {\n",
              "        text-align: right;\n",
              "    }\n",
              "</style>\n",
              "<table border=\"1\" class=\"dataframe\">\n",
              "  <thead>\n",
              "    <tr style=\"text-align: right;\">\n",
              "      <th></th>\n",
              "      <th>Sku</th>\n",
              "      <th>Descricao</th>\n",
              "      <th>Centro</th>\n",
              "      <th>Nome</th>\n",
              "      <th>Movimento</th>\n",
              "      <th>Data</th>\n",
              "      <th>Consumo</th>\n",
              "      <th>Receita</th>\n",
              "      <th>Tipo</th>\n",
              "    </tr>\n",
              "  </thead>\n",
              "  <tbody>\n",
              "    <tr>\n",
              "      <th>10017592</th>\n",
              "      <td>10010479</td>\n",
              "      <td>TB VAC BIOQUIM HEPARI SODICA 4ML GBO</td>\n",
              "      <td>D477</td>\n",
              "      <td>ARMAZEM-BAHIA</td>\n",
              "      <td>648</td>\n",
              "      <td>2021-02-10</td>\n",
              "      <td>50</td>\n",
              "      <td>16</td>\n",
              "      <td>Armazém</td>\n",
              "    </tr>\n",
              "    <tr>\n",
              "      <th>2392988</th>\n",
              "      <td>20003686</td>\n",
              "      <td>LUVA LATEX PROC C/TAL P C/100</td>\n",
              "      <td>D648</td>\n",
              "      <td>ARMAZEM-FORTALEZA</td>\n",
              "      <td>648</td>\n",
              "      <td>2021-05-13</td>\n",
              "      <td>16</td>\n",
              "      <td>992</td>\n",
              "      <td>Armazém</td>\n",
              "    </tr>\n",
              "    <tr>\n",
              "      <th>6682779</th>\n",
              "      <td>10010681</td>\n",
              "      <td>CONTRA HENETIX300 P/TC LOBI 50ML GUERBET</td>\n",
              "      <td>D477</td>\n",
              "      <td>ARMAZEM-BAHIA</td>\n",
              "      <td>648</td>\n",
              "      <td>2020-09-18</td>\n",
              "      <td>25</td>\n",
              "      <td>560</td>\n",
              "      <td>Armazém</td>\n",
              "    </tr>\n",
              "    <tr>\n",
              "      <th>2870739</th>\n",
              "      <td>10013730</td>\n",
              "      <td>FILME DRY DT2 B100 C/100 25.4X30.5 AGFA</td>\n",
              "      <td>D482</td>\n",
              "      <td>ARMAZEM-CUIABÁ</td>\n",
              "      <td>648</td>\n",
              "      <td>2021-04-03</td>\n",
              "      <td>1</td>\n",
              "      <td>161</td>\n",
              "      <td>Armazém</td>\n",
              "    </tr>\n",
              "    <tr>\n",
              "      <th>10136922</th>\n",
              "      <td>10009415</td>\n",
              "      <td>LAM C/EXT FOSCA LAPID 26X76MM CRAL</td>\n",
              "      <td>D044</td>\n",
              "      <td>ARMAZEM-RJ</td>\n",
              "      <td>648</td>\n",
              "      <td>2021-02-04</td>\n",
              "      <td>15</td>\n",
              "      <td>79</td>\n",
              "      <td>Armazém</td>\n",
              "    </tr>\n",
              "    <tr>\n",
              "      <th>...</th>\n",
              "      <td>...</td>\n",
              "      <td>...</td>\n",
              "      <td>...</td>\n",
              "      <td>...</td>\n",
              "      <td>...</td>\n",
              "      <td>...</td>\n",
              "      <td>...</td>\n",
              "      <td>...</td>\n",
              "      <td>...</td>\n",
              "    </tr>\n",
              "    <tr>\n",
              "      <th>4670901</th>\n",
              "      <td>10010106</td>\n",
              "      <td>GAZE 9F N ESTL 7.5X7.5 C/500 M.HOUSE</td>\n",
              "      <td>D044</td>\n",
              "      <td>ARMAZEM-RJ</td>\n",
              "      <td>641</td>\n",
              "      <td>2020-07-02</td>\n",
              "      <td>4</td>\n",
              "      <td>53</td>\n",
              "      <td>Armazém</td>\n",
              "    </tr>\n",
              "    <tr>\n",
              "      <th>4670898</th>\n",
              "      <td>10010106</td>\n",
              "      <td>GAZE 9F N ESTL 7.5X7.5 C/500 M.HOUSE</td>\n",
              "      <td>D044</td>\n",
              "      <td>ARMAZEM-RJ</td>\n",
              "      <td>641</td>\n",
              "      <td>2020-07-03</td>\n",
              "      <td>4</td>\n",
              "      <td>53</td>\n",
              "      <td>Armazém</td>\n",
              "    </tr>\n",
              "    <tr>\n",
              "      <th>4670886</th>\n",
              "      <td>10010106</td>\n",
              "      <td>GAZE 9F N ESTL 7.5X7.5 C/500 M.HOUSE</td>\n",
              "      <td>D044</td>\n",
              "      <td>ARMAZEM-RJ</td>\n",
              "      <td>641</td>\n",
              "      <td>2020-07-07</td>\n",
              "      <td>12</td>\n",
              "      <td>159</td>\n",
              "      <td>Armazém</td>\n",
              "    </tr>\n",
              "    <tr>\n",
              "      <th>4670877</th>\n",
              "      <td>10010106</td>\n",
              "      <td>GAZE 9F N ESTL 7.5X7.5 C/500 M.HOUSE</td>\n",
              "      <td>D044</td>\n",
              "      <td>ARMAZEM-RJ</td>\n",
              "      <td>641</td>\n",
              "      <td>2020-07-08</td>\n",
              "      <td>14</td>\n",
              "      <td>186</td>\n",
              "      <td>Armazém</td>\n",
              "    </tr>\n",
              "    <tr>\n",
              "      <th>10538808</th>\n",
              "      <td>30000821</td>\n",
              "      <td>RGT MYCO 240ML PROD INT</td>\n",
              "      <td>D043</td>\n",
              "      <td>ARMAZEM-SP</td>\n",
              "      <td>641</td>\n",
              "      <td>2021-02-01</td>\n",
              "      <td>17</td>\n",
              "      <td>111</td>\n",
              "      <td>Armazém</td>\n",
              "    </tr>\n",
              "  </tbody>\n",
              "</table>\n",
              "<p>2031414 rows × 9 columns</p>\n",
              "</div>"
            ],
            "text/plain": [
              "               Sku                                 Descricao  ... Receita     Tipo\n",
              "10017592  10010479      TB VAC BIOQUIM HEPARI SODICA 4ML GBO  ...      16  Armazém\n",
              "2392988   20003686             LUVA LATEX PROC C/TAL P C/100  ...     992  Armazém\n",
              "6682779   10010681  CONTRA HENETIX300 P/TC LOBI 50ML GUERBET  ...     560  Armazém\n",
              "2870739   10013730   FILME DRY DT2 B100 C/100 25.4X30.5 AGFA  ...     161  Armazém\n",
              "10136922  10009415        LAM C/EXT FOSCA LAPID 26X76MM CRAL  ...      79  Armazém\n",
              "...            ...                                       ...  ...     ...      ...\n",
              "4670901   10010106      GAZE 9F N ESTL 7.5X7.5 C/500 M.HOUSE  ...      53  Armazém\n",
              "4670898   10010106      GAZE 9F N ESTL 7.5X7.5 C/500 M.HOUSE  ...      53  Armazém\n",
              "4670886   10010106      GAZE 9F N ESTL 7.5X7.5 C/500 M.HOUSE  ...     159  Armazém\n",
              "4670877   10010106      GAZE 9F N ESTL 7.5X7.5 C/500 M.HOUSE  ...     186  Armazém\n",
              "10538808  30000821                   RGT MYCO 240ML PROD INT  ...     111  Armazém\n",
              "\n",
              "[2031414 rows x 9 columns]"
            ]
          },
          "metadata": {
            "tags": []
          },
          "execution_count": 17
        }
      ]
    },
    {
      "cell_type": "code",
      "metadata": {
        "id": "nI-pmMsERwZR"
      },
      "source": [
        "def expand(df,date_col):\n",
        "    df['year'] = df[date_col].dt.year\n",
        "    df['month'] = df[date_col].dt.month\n",
        "    df['day'] = df[date_col].dt.day\n",
        "    df['dayofweek'] = df[date_col].dt.dayofweek\n",
        "    df['weekofyear'] = df[date_col].dt.weekofyear\n",
        "    df['dayofyear'] = df[date_col].dt.dayofyear\n",
        "    df['month_year'] = pd.to_datetime(df['Data']).dt.to_period('M')\n"
      ],
      "execution_count": null,
      "outputs": []
    },
    {
      "cell_type": "code",
      "metadata": {
        "colab": {
          "base_uri": "https://localhost:8080/"
        },
        "id": "fGxc68bCT2Od",
        "outputId": "ffb0ffa0-dd8c-4d71-bbd1-1c96f40a414b"
      },
      "source": [
        "expand(df,'Data')"
      ],
      "execution_count": null,
      "outputs": [
        {
          "output_type": "stream",
          "text": [
            "/usr/local/lib/python3.7/dist-packages/ipykernel_launcher.py:6: FutureWarning: Series.dt.weekofyear and Series.dt.week have been deprecated.  Please use Series.dt.isocalendar().week instead.\n",
            "  \n"
          ],
          "name": "stderr"
        }
      ]
    },
    {
      "cell_type": "code",
      "metadata": {
        "colab": {
          "base_uri": "https://localhost:8080/",
          "height": 390
        },
        "id": "6wplWOx_UFQG",
        "outputId": "f3795171-8316-4979-ebf6-68611b16516c"
      },
      "source": [
        "f, ax = plt.subplots(figsize=(30, 8))\n",
        "ax = sns.barplot(x=\"month_year\", \n",
        "                 y=\"Consumo\", \n",
        "                 data=df,\n",
        "                 palette=\"Blues_d\")\\\n",
        "                .set_title(\"Quantity by month\",fontsize=20)"
      ],
      "execution_count": null,
      "outputs": [
        {
          "output_type": "display_data",
          "data": {
            "image/png": "[encoded data removed]",
            "text/plain": [
              "<Figure size 2160x576 with 1 Axes>"
            ]
          },
          "metadata": {
            "tags": [],
            "needs_background": "light"
          }
        }
      ]
    },
    {
      "cell_type": "code",
      "metadata": {
        "id": "aqsvLMzX_S_W"
      },
      "source": [
        "df[\"id\"] = df[\"Centro\"] + df[\"Sku\"]\n",
        "df.set_index('id', inplace=True)"
      ],
      "execution_count": null,
      "outputs": []
    },
    {
      "cell_type": "code",
      "metadata": {
        "id": "UmKuvVCSH4XS"
      },
      "source": [
        "df_12m = df[(df['Data'] > '2021-01-01') & \\\n",
        "                                   (df['Data'] <= '2021-05-31')]"
      ],
      "execution_count": null,
      "outputs": []
    },
    {
      "cell_type": "code",
      "metadata": {
        "colab": {
          "base_uri": "https://localhost:8080/",
          "height": 653
        },
        "id": "nDTWvA1DUrPu",
        "outputId": "f5a9ecda-afdc-4437-f1fe-a43d8907dca1"
      },
      "source": [
        "df_units = df_12m.groupby(['id','Sku','Centro','month'])['Consumo'].sum().to_frame().reset_index()\n",
        "df_units.sample(20)"
      ],
      "execution_count": null,
      "outputs": [
        {
          "output_type": "execute_result",
          "data": {
            "text/html": [
              "<div>\n",
              "<style scoped>\n",
              "    .dataframe tbody tr th:only-of-type {\n",
              "        vertical-align: middle;\n",
              "    }\n",
              "\n",
              "    .dataframe tbody tr th {\n",
              "        vertical-align: top;\n",
              "    }\n",
              "\n",
              "    .dataframe thead th {\n",
              "        text-align: right;\n",
              "    }\n",
              "</style>\n",
              "<table border=\"1\" class=\"dataframe\">\n",
              "  <thead>\n",
              "    <tr style=\"text-align: right;\">\n",
              "      <th></th>\n",
              "      <th>id</th>\n",
              "      <th>Sku</th>\n",
              "      <th>Centro</th>\n",
              "      <th>month</th>\n",
              "      <th>Consumo</th>\n",
              "    </tr>\n",
              "  </thead>\n",
              "  <tbody>\n",
              "    <tr>\n",
              "      <th>2053</th>\n",
              "      <td>C00310010237</td>\n",
              "      <td>10010237</td>\n",
              "      <td>C003</td>\n",
              "      <td>5</td>\n",
              "      <td>603</td>\n",
              "    </tr>\n",
              "    <tr>\n",
              "      <th>33988</th>\n",
              "      <td>D05020003828</td>\n",
              "      <td>20003828</td>\n",
              "      <td>D050</td>\n",
              "      <td>3</td>\n",
              "      <td>1</td>\n",
              "    </tr>\n",
              "    <tr>\n",
              "      <th>38767</th>\n",
              "      <td>D47910008882</td>\n",
              "      <td>10008882</td>\n",
              "      <td>D479</td>\n",
              "      <td>5</td>\n",
              "      <td>1</td>\n",
              "    </tr>\n",
              "    <tr>\n",
              "      <th>3807</th>\n",
              "      <td>C00320003718</td>\n",
              "      <td>20003718</td>\n",
              "      <td>C003</td>\n",
              "      <td>5</td>\n",
              "      <td>3300</td>\n",
              "    </tr>\n",
              "    <tr>\n",
              "      <th>38858</th>\n",
              "      <td>D47910009175</td>\n",
              "      <td>10009175</td>\n",
              "      <td>D479</td>\n",
              "      <td>5</td>\n",
              "      <td>904</td>\n",
              "    </tr>\n",
              "    <tr>\n",
              "      <th>10533</th>\n",
              "      <td>D04310009901</td>\n",
              "      <td>10009901</td>\n",
              "      <td>D043</td>\n",
              "      <td>3</td>\n",
              "      <td>2</td>\n",
              "    </tr>\n",
              "    <tr>\n",
              "      <th>7784</th>\n",
              "      <td>D04310007343</td>\n",
              "      <td>10007343</td>\n",
              "      <td>D043</td>\n",
              "      <td>4</td>\n",
              "      <td>27600</td>\n",
              "    </tr>\n",
              "    <tr>\n",
              "      <th>37744</th>\n",
              "      <td>D47910000938</td>\n",
              "      <td>10000938</td>\n",
              "      <td>D479</td>\n",
              "      <td>5</td>\n",
              "      <td>85</td>\n",
              "    </tr>\n",
              "    <tr>\n",
              "      <th>40169</th>\n",
              "      <td>D47910014149</td>\n",
              "      <td>10014149</td>\n",
              "      <td>D479</td>\n",
              "      <td>3</td>\n",
              "      <td>20</td>\n",
              "    </tr>\n",
              "    <tr>\n",
              "      <th>26396</th>\n",
              "      <td>D04410015213</td>\n",
              "      <td>10015213</td>\n",
              "      <td>D044</td>\n",
              "      <td>1</td>\n",
              "      <td>708</td>\n",
              "    </tr>\n",
              "    <tr>\n",
              "      <th>11833</th>\n",
              "      <td>D04310010570</td>\n",
              "      <td>10010570</td>\n",
              "      <td>D043</td>\n",
              "      <td>2</td>\n",
              "      <td>6</td>\n",
              "    </tr>\n",
              "    <tr>\n",
              "      <th>58408</th>\n",
              "      <td>P02410003017</td>\n",
              "      <td>10003017</td>\n",
              "      <td>P024</td>\n",
              "      <td>1</td>\n",
              "      <td>3</td>\n",
              "    </tr>\n",
              "    <tr>\n",
              "      <th>39626</th>\n",
              "      <td>D47910010702</td>\n",
              "      <td>10010702</td>\n",
              "      <td>D479</td>\n",
              "      <td>2</td>\n",
              "      <td>1748</td>\n",
              "    </tr>\n",
              "    <tr>\n",
              "      <th>33223</th>\n",
              "      <td>D05010018739</td>\n",
              "      <td>10018739</td>\n",
              "      <td>D050</td>\n",
              "      <td>4</td>\n",
              "      <td>8</td>\n",
              "    </tr>\n",
              "    <tr>\n",
              "      <th>13945</th>\n",
              "      <td>D04310014238</td>\n",
              "      <td>10014238</td>\n",
              "      <td>D043</td>\n",
              "      <td>4</td>\n",
              "      <td>229</td>\n",
              "    </tr>\n",
              "    <tr>\n",
              "      <th>26948</th>\n",
              "      <td>D04410018447</td>\n",
              "      <td>10018447</td>\n",
              "      <td>D044</td>\n",
              "      <td>2</td>\n",
              "      <td>6</td>\n",
              "    </tr>\n",
              "    <tr>\n",
              "      <th>39685</th>\n",
              "      <td>D47910010823</td>\n",
              "      <td>10010823</td>\n",
              "      <td>D479</td>\n",
              "      <td>5</td>\n",
              "      <td>1053</td>\n",
              "    </tr>\n",
              "    <tr>\n",
              "      <th>52022</th>\n",
              "      <td>DA0410001338</td>\n",
              "      <td>10001338</td>\n",
              "      <td>DA04</td>\n",
              "      <td>3</td>\n",
              "      <td>19</td>\n",
              "    </tr>\n",
              "    <tr>\n",
              "      <th>31673</th>\n",
              "      <td>D05010010029</td>\n",
              "      <td>10010029</td>\n",
              "      <td>D050</td>\n",
              "      <td>1</td>\n",
              "      <td>1</td>\n",
              "    </tr>\n",
              "    <tr>\n",
              "      <th>46537</th>\n",
              "      <td>D48110012406</td>\n",
              "      <td>10012406</td>\n",
              "      <td>D481</td>\n",
              "      <td>5</td>\n",
              "      <td>1</td>\n",
              "    </tr>\n",
              "  </tbody>\n",
              "</table>\n",
              "</div>"
            ],
            "text/plain": [
              "                 id       Sku Centro  month  Consumo\n",
              "2053   C00310010237  10010237   C003      5      603\n",
              "33988  D05020003828  20003828   D050      3        1\n",
              "38767  D47910008882  10008882   D479      5        1\n",
              "3807   C00320003718  20003718   C003      5     3300\n",
              "38858  D47910009175  10009175   D479      5      904\n",
              "10533  D04310009901  10009901   D043      3        2\n",
              "7784   D04310007343  10007343   D043      4    27600\n",
              "37744  D47910000938  10000938   D479      5       85\n",
              "40169  D47910014149  10014149   D479      3       20\n",
              "26396  D04410015213  10015213   D044      1      708\n",
              "11833  D04310010570  10010570   D043      2        6\n",
              "58408  P02410003017  10003017   P024      1        3\n",
              "39626  D47910010702  10010702   D479      2     1748\n",
              "33223  D05010018739  10018739   D050      4        8\n",
              "13945  D04310014238  10014238   D043      4      229\n",
              "26948  D04410018447  10018447   D044      2        6\n",
              "39685  D47910010823  10010823   D479      5     1053\n",
              "52022  DA0410001338  10001338   DA04      3       19\n",
              "31673  D05010010029  10010029   D050      1        1\n",
              "46537  D48110012406  10012406   D481      5        1"
            ]
          },
          "metadata": {
            "tags": []
          },
          "execution_count": 22
        }
      ]
    },
    {
      "cell_type": "code",
      "metadata": {
        "colab": {
          "base_uri": "https://localhost:8080/",
          "height": 200
        },
        "id": "XhYIuXMB_mUj",
        "outputId": "bfdb46e4-25d7-4bb0-cde4-7b286b6f1de0"
      },
      "source": [
        "df_units = df_units.pivot(index='id', columns='month', values='Consumo')\\\n",
        "                           .add_prefix('m').reset_index().fillna(0)\n",
        "df_units.head()"
      ],
      "execution_count": null,
      "outputs": [
        {
          "output_type": "execute_result",
          "data": {
            "text/html": [
              "<div>\n",
              "<style scoped>\n",
              "    .dataframe tbody tr th:only-of-type {\n",
              "        vertical-align: middle;\n",
              "    }\n",
              "\n",
              "    .dataframe tbody tr th {\n",
              "        vertical-align: top;\n",
              "    }\n",
              "\n",
              "    .dataframe thead th {\n",
              "        text-align: right;\n",
              "    }\n",
              "</style>\n",
              "<table border=\"1\" class=\"dataframe\">\n",
              "  <thead>\n",
              "    <tr style=\"text-align: right;\">\n",
              "      <th>month</th>\n",
              "      <th>id</th>\n",
              "      <th>m1</th>\n",
              "      <th>m2</th>\n",
              "      <th>m3</th>\n",
              "      <th>m4</th>\n",
              "      <th>m5</th>\n",
              "    </tr>\n",
              "  </thead>\n",
              "  <tbody>\n",
              "    <tr>\n",
              "      <th>0</th>\n",
              "      <td>C00310000109</td>\n",
              "      <td>0.0</td>\n",
              "      <td>11.0</td>\n",
              "      <td>8.0</td>\n",
              "      <td>18.0</td>\n",
              "      <td>2.0</td>\n",
              "    </tr>\n",
              "    <tr>\n",
              "      <th>1</th>\n",
              "      <td>C00310000110</td>\n",
              "      <td>3.0</td>\n",
              "      <td>32.0</td>\n",
              "      <td>17.0</td>\n",
              "      <td>24.0</td>\n",
              "      <td>38.0</td>\n",
              "    </tr>\n",
              "    <tr>\n",
              "      <th>2</th>\n",
              "      <td>C00310000115</td>\n",
              "      <td>2.0</td>\n",
              "      <td>12.0</td>\n",
              "      <td>6.0</td>\n",
              "      <td>8.0</td>\n",
              "      <td>12.0</td>\n",
              "    </tr>\n",
              "    <tr>\n",
              "      <th>3</th>\n",
              "      <td>C00310000116</td>\n",
              "      <td>9.0</td>\n",
              "      <td>18.0</td>\n",
              "      <td>37.0</td>\n",
              "      <td>26.0</td>\n",
              "      <td>43.0</td>\n",
              "    </tr>\n",
              "    <tr>\n",
              "      <th>4</th>\n",
              "      <td>C00310000122</td>\n",
              "      <td>0.0</td>\n",
              "      <td>0.0</td>\n",
              "      <td>0.0</td>\n",
              "      <td>0.0</td>\n",
              "      <td>1.0</td>\n",
              "    </tr>\n",
              "  </tbody>\n",
              "</table>\n",
              "</div>"
            ],
            "text/plain": [
              "month            id   m1    m2    m3    m4    m5\n",
              "0      C00310000109  0.0  11.0   8.0  18.0   2.0\n",
              "1      C00310000110  3.0  32.0  17.0  24.0  38.0\n",
              "2      C00310000115  2.0  12.0   6.0   8.0  12.0\n",
              "3      C00310000116  9.0  18.0  37.0  26.0  43.0\n",
              "4      C00310000122  0.0   0.0   0.0   0.0   1.0"
            ]
          },
          "metadata": {
            "tags": []
          },
          "execution_count": 23
        }
      ]
    },
    {
      "cell_type": "code",
      "metadata": {
        "id": "BTBczMFHvUB2"
      },
      "source": [
        "#df_units['avg_demand'] = df_units.iloc[:, 2:5].mean(axis=1)\n",
        "#df_units['std_demand'] = df_units.iloc[:, 2:5].std(axis=1)\n",
        "##df_units['total_demand'] = df_units.iloc[:, 2:5].sum(axis=1)\n",
        "#df_units['cov_demand'] = df_units['std_demand'] / df_units['avg_demand']"
      ],
      "execution_count": null,
      "outputs": []
    },
    {
      "cell_type": "code",
      "metadata": {
        "id": "KW4CcUjghrOx"
      },
      "source": [
        "df_units['std_demand'] = df_units[['m1','m2','m3','m4','m5']].std(axis=1)\n",
        "df_units = df_units.assign(total_demand = df_units['m1'] + df_units['m2'] + \\\n",
        "                                                 df_units['m3']+ df_units['m4']+ \\\n",
        "                                                 df_units['m5']\n",
        "                                  )\n",
        "df_units = df_units.assign(avg_demand = df_units['total_demand'] / 5 )\n",
        "df_units['cov_demand'] = df_units['std_demand'] / df_units['avg_demand']"
      ],
      "execution_count": null,
      "outputs": []
    },
    {
      "cell_type": "code",
      "metadata": {
        "id": "j987aA0Mbq5Z",
        "colab": {
          "base_uri": "https://localhost:8080/",
          "height": 200
        },
        "outputId": "f079c1b2-b616-440e-9ebc-309b9f384c5f"
      },
      "source": [
        "df_units.sort_values(by='cov_demand', ascending=False).head(5)"
      ],
      "execution_count": null,
      "outputs": [
        {
          "output_type": "execute_result",
          "data": {
            "text/html": [
              "<div>\n",
              "<style scoped>\n",
              "    .dataframe tbody tr th:only-of-type {\n",
              "        vertical-align: middle;\n",
              "    }\n",
              "\n",
              "    .dataframe tbody tr th {\n",
              "        vertical-align: top;\n",
              "    }\n",
              "\n",
              "    .dataframe thead th {\n",
              "        text-align: right;\n",
              "    }\n",
              "</style>\n",
              "<table border=\"1\" class=\"dataframe\">\n",
              "  <thead>\n",
              "    <tr style=\"text-align: right;\">\n",
              "      <th>month</th>\n",
              "      <th>id</th>\n",
              "      <th>m1</th>\n",
              "      <th>m2</th>\n",
              "      <th>m3</th>\n",
              "      <th>m4</th>\n",
              "      <th>m5</th>\n",
              "      <th>std_demand</th>\n",
              "      <th>total_demand</th>\n",
              "      <th>avg_demand</th>\n",
              "      <th>cov_demand</th>\n",
              "    </tr>\n",
              "  </thead>\n",
              "  <tbody>\n",
              "    <tr>\n",
              "      <th>18457</th>\n",
              "      <td>SZ2330000960</td>\n",
              "      <td>0.0</td>\n",
              "      <td>1.0</td>\n",
              "      <td>0.0</td>\n",
              "      <td>0.0</td>\n",
              "      <td>0.0</td>\n",
              "      <td>0.447214</td>\n",
              "      <td>1.0</td>\n",
              "      <td>0.2</td>\n",
              "      <td>2.236068</td>\n",
              "    </tr>\n",
              "    <tr>\n",
              "      <th>16358</th>\n",
              "      <td>DA0420005684</td>\n",
              "      <td>0.0</td>\n",
              "      <td>0.0</td>\n",
              "      <td>1.0</td>\n",
              "      <td>0.0</td>\n",
              "      <td>0.0</td>\n",
              "      <td>0.447214</td>\n",
              "      <td>1.0</td>\n",
              "      <td>0.2</td>\n",
              "      <td>2.236068</td>\n",
              "    </tr>\n",
              "    <tr>\n",
              "      <th>10159</th>\n",
              "      <td>D47710009605</td>\n",
              "      <td>0.0</td>\n",
              "      <td>0.0</td>\n",
              "      <td>2.0</td>\n",
              "      <td>0.0</td>\n",
              "      <td>0.0</td>\n",
              "      <td>0.894427</td>\n",
              "      <td>2.0</td>\n",
              "      <td>0.4</td>\n",
              "      <td>2.236068</td>\n",
              "    </tr>\n",
              "    <tr>\n",
              "      <th>1434</th>\n",
              "      <td>D04310001166</td>\n",
              "      <td>0.0</td>\n",
              "      <td>4.0</td>\n",
              "      <td>0.0</td>\n",
              "      <td>0.0</td>\n",
              "      <td>0.0</td>\n",
              "      <td>1.788854</td>\n",
              "      <td>4.0</td>\n",
              "      <td>0.8</td>\n",
              "      <td>2.236068</td>\n",
              "    </tr>\n",
              "    <tr>\n",
              "      <th>4700</th>\n",
              "      <td>D04320003754</td>\n",
              "      <td>0.0</td>\n",
              "      <td>0.0</td>\n",
              "      <td>0.0</td>\n",
              "      <td>0.0</td>\n",
              "      <td>18.0</td>\n",
              "      <td>8.049845</td>\n",
              "      <td>18.0</td>\n",
              "      <td>3.6</td>\n",
              "      <td>2.236068</td>\n",
              "    </tr>\n",
              "  </tbody>\n",
              "</table>\n",
              "</div>"
            ],
            "text/plain": [
              "month            id   m1   m2  ...  total_demand  avg_demand  cov_demand\n",
              "18457  SZ2330000960  0.0  1.0  ...           1.0         0.2    2.236068\n",
              "16358  DA0420005684  0.0  0.0  ...           1.0         0.2    2.236068\n",
              "10159  D47710009605  0.0  0.0  ...           2.0         0.4    2.236068\n",
              "1434   D04310001166  0.0  4.0  ...           4.0         0.8    2.236068\n",
              "4700   D04320003754  0.0  0.0  ...          18.0         3.6    2.236068\n",
              "\n",
              "[5 rows x 10 columns]"
            ]
          },
          "metadata": {
            "tags": []
          },
          "execution_count": 25
        }
      ]
    },
    {
      "cell_type": "code",
      "metadata": {
        "id": "sdcfd-gTbuqF",
        "colab": {
          "base_uri": "https://localhost:8080/",
          "height": 200
        },
        "outputId": "eff79107-b8b2-4165-ba90-df9e8357911f"
      },
      "source": [
        "df_units.sort_values(by='cov_demand', ascending=True).head(5)"
      ],
      "execution_count": null,
      "outputs": [
        {
          "output_type": "execute_result",
          "data": {
            "text/html": [
              "<div>\n",
              "<style scoped>\n",
              "    .dataframe tbody tr th:only-of-type {\n",
              "        vertical-align: middle;\n",
              "    }\n",
              "\n",
              "    .dataframe tbody tr th {\n",
              "        vertical-align: top;\n",
              "    }\n",
              "\n",
              "    .dataframe thead th {\n",
              "        text-align: right;\n",
              "    }\n",
              "</style>\n",
              "<table border=\"1\" class=\"dataframe\">\n",
              "  <thead>\n",
              "    <tr style=\"text-align: right;\">\n",
              "      <th>month</th>\n",
              "      <th>id</th>\n",
              "      <th>m1</th>\n",
              "      <th>m2</th>\n",
              "      <th>m3</th>\n",
              "      <th>m4</th>\n",
              "      <th>m5</th>\n",
              "      <th>std_demand</th>\n",
              "      <th>total_demand</th>\n",
              "      <th>avg_demand</th>\n",
              "      <th>cov_demand</th>\n",
              "    </tr>\n",
              "  </thead>\n",
              "  <tbody>\n",
              "    <tr>\n",
              "      <th>8291</th>\n",
              "      <td>D04430000497</td>\n",
              "      <td>1.0</td>\n",
              "      <td>1.0</td>\n",
              "      <td>1.0</td>\n",
              "      <td>1.0</td>\n",
              "      <td>1.0</td>\n",
              "      <td>0.0</td>\n",
              "      <td>5.0</td>\n",
              "      <td>1.0</td>\n",
              "      <td>0.0</td>\n",
              "    </tr>\n",
              "    <tr>\n",
              "      <th>5463</th>\n",
              "      <td>D04410001756</td>\n",
              "      <td>1.0</td>\n",
              "      <td>1.0</td>\n",
              "      <td>1.0</td>\n",
              "      <td>1.0</td>\n",
              "      <td>1.0</td>\n",
              "      <td>0.0</td>\n",
              "      <td>5.0</td>\n",
              "      <td>1.0</td>\n",
              "      <td>0.0</td>\n",
              "    </tr>\n",
              "    <tr>\n",
              "      <th>10467</th>\n",
              "      <td>D47710014275</td>\n",
              "      <td>1.0</td>\n",
              "      <td>1.0</td>\n",
              "      <td>1.0</td>\n",
              "      <td>1.0</td>\n",
              "      <td>1.0</td>\n",
              "      <td>0.0</td>\n",
              "      <td>5.0</td>\n",
              "      <td>1.0</td>\n",
              "      <td>0.0</td>\n",
              "    </tr>\n",
              "    <tr>\n",
              "      <th>8926</th>\n",
              "      <td>D05010009371</td>\n",
              "      <td>2.0</td>\n",
              "      <td>2.0</td>\n",
              "      <td>2.0</td>\n",
              "      <td>2.0</td>\n",
              "      <td>2.0</td>\n",
              "      <td>0.0</td>\n",
              "      <td>10.0</td>\n",
              "      <td>2.0</td>\n",
              "      <td>0.0</td>\n",
              "    </tr>\n",
              "    <tr>\n",
              "      <th>5410</th>\n",
              "      <td>D04410001221</td>\n",
              "      <td>1.0</td>\n",
              "      <td>1.0</td>\n",
              "      <td>1.0</td>\n",
              "      <td>1.0</td>\n",
              "      <td>1.0</td>\n",
              "      <td>0.0</td>\n",
              "      <td>5.0</td>\n",
              "      <td>1.0</td>\n",
              "      <td>0.0</td>\n",
              "    </tr>\n",
              "  </tbody>\n",
              "</table>\n",
              "</div>"
            ],
            "text/plain": [
              "month            id   m1   m2  ...  total_demand  avg_demand  cov_demand\n",
              "8291   D04430000497  1.0  1.0  ...           5.0         1.0         0.0\n",
              "5463   D04410001756  1.0  1.0  ...           5.0         1.0         0.0\n",
              "10467  D47710014275  1.0  1.0  ...           5.0         1.0         0.0\n",
              "8926   D05010009371  2.0  2.0  ...          10.0         2.0         0.0\n",
              "5410   D04410001221  1.0  1.0  ...           5.0         1.0         0.0\n",
              "\n",
              "[5 rows x 10 columns]"
            ]
          },
          "metadata": {
            "tags": []
          },
          "execution_count": 26
        }
      ]
    },
    {
      "cell_type": "code",
      "metadata": {
        "colab": {
          "base_uri": "https://localhost:8080/"
        },
        "id": "mrNtwOc3bz9K",
        "outputId": "59bab210-f325-488d-a9bb-444daac80597"
      },
      "source": [
        "df_units['cov_demand'].min()"
      ],
      "execution_count": null,
      "outputs": [
        {
          "output_type": "execute_result",
          "data": {
            "text/plain": [
              "0.0"
            ]
          },
          "metadata": {
            "tags": []
          },
          "execution_count": 27
        }
      ]
    },
    {
      "cell_type": "code",
      "metadata": {
        "colab": {
          "base_uri": "https://localhost:8080/"
        },
        "id": "eiiqG3peb4BV",
        "outputId": "7f4364c6-51db-4b6a-cb24-152810dd4a49"
      },
      "source": [
        "df_units['cov_demand'].mean()"
      ],
      "execution_count": null,
      "outputs": [
        {
          "output_type": "execute_result",
          "data": {
            "text/plain": [
              "1.1344454402691642"
            ]
          },
          "metadata": {
            "tags": []
          },
          "execution_count": 28
        }
      ]
    },
    {
      "cell_type": "code",
      "metadata": {
        "colab": {
          "base_uri": "https://localhost:8080/"
        },
        "id": "qtlKU1ONb69P",
        "outputId": "ca2e7876-43ba-4521-8354-20cc38349893"
      },
      "source": [
        "df_units['cov_demand'].max()"
      ],
      "execution_count": null,
      "outputs": [
        {
          "output_type": "execute_result",
          "data": {
            "text/plain": [
              "2.2360679774997902"
            ]
          },
          "metadata": {
            "tags": []
          },
          "execution_count": 29
        }
      ]
    },
    {
      "cell_type": "code",
      "metadata": {
        "colab": {
          "base_uri": "https://localhost:8080/",
          "height": 460
        },
        "id": "-gOSn60EblKA",
        "outputId": "95e7130b-fcef-4cf4-e70d-177fd7a02406"
      },
      "source": [
        "f, ax = plt.subplots(figsize=(15, 6))\n",
        "ax = sns.distplot(df_units['cov_demand']).set_title(\"Coefficient of Variation\",fontsize=15)"
      ],
      "execution_count": null,
      "outputs": [
        {
          "output_type": "stream",
          "text": [
            "/usr/local/lib/python3.7/dist-packages/seaborn/distributions.py:2557: FutureWarning: `distplot` is a deprecated function and will be removed in a future version. Please adapt your code to use either `displot` (a figure-level function with similar flexibility) or `histplot` (an axes-level function for histograms).\n",
            "  warnings.warn(msg, FutureWarning)\n"
          ],
          "name": "stderr"
        },
        {
          "output_type": "display_data",
          "data": {
            "image/png": "[encoded data removed]",
            "text/plain": [
              "<Figure size 1080x432 with 1 Axes>"
            ]
          },
          "metadata": {
            "tags": [],
            "needs_background": "light"
          }
        }
      ]
    },
    {
      "cell_type": "code",
      "metadata": {
        "id": "ZSrBAAoXcK2p"
      },
      "source": [
        "def xyz_classify_product(cov):\n",
        "    \"\"\"Apply an XYZ classification to each product based on \n",
        "    its coefficient of variation in order quantity.\n",
        "\n",
        "    :param cov: Coefficient of variation in order quantity for SKU\n",
        "    :return: XYZ inventory classification class\n",
        "    \"\"\"\n",
        "\n",
        "    if cov <= 0.5:\n",
        "        return 'X'\n",
        "    elif cov > 0.5 and cov <= 1.0:\n",
        "        return 'Y'\n",
        "    else:\n",
        "        return 'Z'"
      ],
      "execution_count": null,
      "outputs": []
    },
    {
      "cell_type": "code",
      "metadata": {
        "colab": {
          "base_uri": "https://localhost:8080/"
        },
        "id": "Q0YMg1GIcStd",
        "outputId": "f2a3eb67-cb1d-49ee-e330-695ed77ad565"
      },
      "source": [
        "df_units['xyz_class'] = df_units['cov_demand'].apply(xyz_classify_product)\n",
        "df_units.xyz_class.value_counts()"
      ],
      "execution_count": null,
      "outputs": [
        {
          "output_type": "execute_result",
          "data": {
            "text/plain": [
              "Z    8863\n",
              "Y    5134\n",
              "X    4461\n",
              "Name: xyz_class, dtype: int64"
            ]
          },
          "metadata": {
            "tags": []
          },
          "execution_count": 32
        }
      ]
    },
    {
      "cell_type": "code",
      "metadata": {
        "id": "xD_n4fuWcbYw",
        "colab": {
          "base_uri": "https://localhost:8080/",
          "height": 200
        },
        "outputId": "8d1a9f22-d9da-4e62-e70f-5057fbca2ebc"
      },
      "source": [
        "df_units.head()"
      ],
      "execution_count": null,
      "outputs": [
        {
          "output_type": "execute_result",
          "data": {
            "text/html": [
              "<div>\n",
              "<style scoped>\n",
              "    .dataframe tbody tr th:only-of-type {\n",
              "        vertical-align: middle;\n",
              "    }\n",
              "\n",
              "    .dataframe tbody tr th {\n",
              "        vertical-align: top;\n",
              "    }\n",
              "\n",
              "    .dataframe thead th {\n",
              "        text-align: right;\n",
              "    }\n",
              "</style>\n",
              "<table border=\"1\" class=\"dataframe\">\n",
              "  <thead>\n",
              "    <tr style=\"text-align: right;\">\n",
              "      <th>month</th>\n",
              "      <th>id</th>\n",
              "      <th>m1</th>\n",
              "      <th>m2</th>\n",
              "      <th>m3</th>\n",
              "      <th>m4</th>\n",
              "      <th>m5</th>\n",
              "      <th>std_demand</th>\n",
              "      <th>total_demand</th>\n",
              "      <th>avg_demand</th>\n",
              "      <th>cov_demand</th>\n",
              "      <th>xyz_class</th>\n",
              "    </tr>\n",
              "  </thead>\n",
              "  <tbody>\n",
              "    <tr>\n",
              "      <th>0</th>\n",
              "      <td>C00310000109</td>\n",
              "      <td>0.0</td>\n",
              "      <td>11.0</td>\n",
              "      <td>8.0</td>\n",
              "      <td>18.0</td>\n",
              "      <td>2.0</td>\n",
              "      <td>7.224957</td>\n",
              "      <td>39.0</td>\n",
              "      <td>7.8</td>\n",
              "      <td>0.926277</td>\n",
              "      <td>Y</td>\n",
              "    </tr>\n",
              "    <tr>\n",
              "      <th>1</th>\n",
              "      <td>C00310000110</td>\n",
              "      <td>3.0</td>\n",
              "      <td>32.0</td>\n",
              "      <td>17.0</td>\n",
              "      <td>24.0</td>\n",
              "      <td>38.0</td>\n",
              "      <td>13.627179</td>\n",
              "      <td>114.0</td>\n",
              "      <td>22.8</td>\n",
              "      <td>0.597683</td>\n",
              "      <td>Y</td>\n",
              "    </tr>\n",
              "    <tr>\n",
              "      <th>2</th>\n",
              "      <td>C00310000115</td>\n",
              "      <td>2.0</td>\n",
              "      <td>12.0</td>\n",
              "      <td>6.0</td>\n",
              "      <td>8.0</td>\n",
              "      <td>12.0</td>\n",
              "      <td>4.242641</td>\n",
              "      <td>40.0</td>\n",
              "      <td>8.0</td>\n",
              "      <td>0.530330</td>\n",
              "      <td>Y</td>\n",
              "    </tr>\n",
              "    <tr>\n",
              "      <th>3</th>\n",
              "      <td>C00310000116</td>\n",
              "      <td>9.0</td>\n",
              "      <td>18.0</td>\n",
              "      <td>37.0</td>\n",
              "      <td>26.0</td>\n",
              "      <td>43.0</td>\n",
              "      <td>13.794927</td>\n",
              "      <td>133.0</td>\n",
              "      <td>26.6</td>\n",
              "      <td>0.518606</td>\n",
              "      <td>Y</td>\n",
              "    </tr>\n",
              "    <tr>\n",
              "      <th>4</th>\n",
              "      <td>C00310000122</td>\n",
              "      <td>0.0</td>\n",
              "      <td>0.0</td>\n",
              "      <td>0.0</td>\n",
              "      <td>0.0</td>\n",
              "      <td>1.0</td>\n",
              "      <td>0.447214</td>\n",
              "      <td>1.0</td>\n",
              "      <td>0.2</td>\n",
              "      <td>2.236068</td>\n",
              "      <td>Z</td>\n",
              "    </tr>\n",
              "  </tbody>\n",
              "</table>\n",
              "</div>"
            ],
            "text/plain": [
              "month            id   m1    m2  ...  avg_demand  cov_demand  xyz_class\n",
              "0      C00310000109  0.0  11.0  ...         7.8    0.926277          Y\n",
              "1      C00310000110  3.0  32.0  ...        22.8    0.597683          Y\n",
              "2      C00310000115  2.0  12.0  ...         8.0    0.530330          Y\n",
              "3      C00310000116  9.0  18.0  ...        26.6    0.518606          Y\n",
              "4      C00310000122  0.0   0.0  ...         0.2    2.236068          Z\n",
              "\n",
              "[5 rows x 11 columns]"
            ]
          },
          "metadata": {
            "tags": []
          },
          "execution_count": 33
        }
      ]
    },
    {
      "cell_type": "code",
      "metadata": {
        "id": "Qus18G1hcdRT",
        "colab": {
          "base_uri": "https://localhost:8080/",
          "height": 170
        },
        "outputId": "10ffb526-e397-469f-fc3b-5140bc8ac180"
      },
      "source": [
        "df_units.groupby('xyz_class').agg(\n",
        "    total_skus=('id', 'nunique'),\n",
        "    total_demand=('total_demand', 'sum'),    \n",
        "    std_demand=('std_demand', 'mean'),      \n",
        "    avg_demand=('avg_demand', 'mean'),\n",
        "    avg_cov_demand=('cov_demand', 'mean'),\n",
        ")"
      ],
      "execution_count": null,
      "outputs": [
        {
          "output_type": "execute_result",
          "data": {
            "text/html": [
              "<div>\n",
              "<style scoped>\n",
              "    .dataframe tbody tr th:only-of-type {\n",
              "        vertical-align: middle;\n",
              "    }\n",
              "\n",
              "    .dataframe tbody tr th {\n",
              "        vertical-align: top;\n",
              "    }\n",
              "\n",
              "    .dataframe thead th {\n",
              "        text-align: right;\n",
              "    }\n",
              "</style>\n",
              "<table border=\"1\" class=\"dataframe\">\n",
              "  <thead>\n",
              "    <tr style=\"text-align: right;\">\n",
              "      <th></th>\n",
              "      <th>total_skus</th>\n",
              "      <th>total_demand</th>\n",
              "      <th>std_demand</th>\n",
              "      <th>avg_demand</th>\n",
              "      <th>avg_cov_demand</th>\n",
              "    </tr>\n",
              "    <tr>\n",
              "      <th>xyz_class</th>\n",
              "      <th></th>\n",
              "      <th></th>\n",
              "      <th></th>\n",
              "      <th></th>\n",
              "      <th></th>\n",
              "    </tr>\n",
              "  </thead>\n",
              "  <tbody>\n",
              "    <tr>\n",
              "      <th>X</th>\n",
              "      <td>4461</td>\n",
              "      <td>43700246.0</td>\n",
              "      <td>701.338485</td>\n",
              "      <td>1959.213002</td>\n",
              "      <td>0.358540</td>\n",
              "    </tr>\n",
              "    <tr>\n",
              "      <th>Y</th>\n",
              "      <td>5134</td>\n",
              "      <td>28926110.0</td>\n",
              "      <td>791.047865</td>\n",
              "      <td>1126.844955</td>\n",
              "      <td>0.735677</td>\n",
              "    </tr>\n",
              "    <tr>\n",
              "      <th>Z</th>\n",
              "      <td>8863</td>\n",
              "      <td>9387418.0</td>\n",
              "      <td>338.150880</td>\n",
              "      <td>211.833871</td>\n",
              "      <td>1.755972</td>\n",
              "    </tr>\n",
              "  </tbody>\n",
              "</table>\n",
              "</div>"
            ],
            "text/plain": [
              "           total_skus  total_demand  std_demand   avg_demand  avg_cov_demand\n",
              "xyz_class                                                                   \n",
              "X                4461    43700246.0  701.338485  1959.213002        0.358540\n",
              "Y                5134    28926110.0  791.047865  1126.844955        0.735677\n",
              "Z                8863     9387418.0  338.150880   211.833871        1.755972"
            ]
          },
          "metadata": {
            "tags": []
          },
          "execution_count": 34
        }
      ]
    },
    {
      "cell_type": "code",
      "metadata": {
        "id": "6veR-oPWcyuj"
      },
      "source": [
        "df_monthly = df_units.groupby('xyz_class').agg(\n",
        "    m1=('m1', 'sum'),\n",
        "    m2=('m2', 'sum'),\n",
        "    m3=('m3', 'sum'),\n",
        "    m4=('m4', 'sum'),\n",
        "    m5=('m5', 'sum'),\n",
        "   )\n",
        "\n",
        "df_monthly.head()"
      ],
      "execution_count": null,
      "outputs": []
    },
    {
      "cell_type": "code",
      "metadata": {
        "colab": {
          "base_uri": "https://localhost:8080/",
          "height": 200
        },
        "id": "HkMcdZeYdBV3",
        "outputId": "55cc9246-c5b4-490f-f5db-3756af8f71c2"
      },
      "source": [
        "df_monthly_unstacked = df_monthly.unstack('xyz_class').to_frame()\n",
        "df_monthly_unstacked = df_monthly_unstacked.reset_index().rename(columns={'level_0': 'month', 0: 'demand'})\n",
        "df_monthly_unstacked.head()"
      ],
      "execution_count": null,
      "outputs": [
        {
          "output_type": "execute_result",
          "data": {
            "text/html": [
              "<div>\n",
              "<style scoped>\n",
              "    .dataframe tbody tr th:only-of-type {\n",
              "        vertical-align: middle;\n",
              "    }\n",
              "\n",
              "    .dataframe tbody tr th {\n",
              "        vertical-align: top;\n",
              "    }\n",
              "\n",
              "    .dataframe thead th {\n",
              "        text-align: right;\n",
              "    }\n",
              "</style>\n",
              "<table border=\"1\" class=\"dataframe\">\n",
              "  <thead>\n",
              "    <tr style=\"text-align: right;\">\n",
              "      <th></th>\n",
              "      <th>month</th>\n",
              "      <th>xyz_class</th>\n",
              "      <th>demand</th>\n",
              "    </tr>\n",
              "  </thead>\n",
              "  <tbody>\n",
              "    <tr>\n",
              "      <th>0</th>\n",
              "      <td>m1</td>\n",
              "      <td>X</td>\n",
              "      <td>5361191.0</td>\n",
              "    </tr>\n",
              "    <tr>\n",
              "      <th>1</th>\n",
              "      <td>m1</td>\n",
              "      <td>Y</td>\n",
              "      <td>1820522.0</td>\n",
              "    </tr>\n",
              "    <tr>\n",
              "      <th>2</th>\n",
              "      <td>m1</td>\n",
              "      <td>Z</td>\n",
              "      <td>877233.0</td>\n",
              "    </tr>\n",
              "    <tr>\n",
              "      <th>3</th>\n",
              "      <td>m2</td>\n",
              "      <td>X</td>\n",
              "      <td>10290657.0</td>\n",
              "    </tr>\n",
              "    <tr>\n",
              "      <th>4</th>\n",
              "      <td>m2</td>\n",
              "      <td>Y</td>\n",
              "      <td>7745847.0</td>\n",
              "    </tr>\n",
              "  </tbody>\n",
              "</table>\n",
              "</div>"
            ],
            "text/plain": [
              "  month xyz_class      demand\n",
              "0    m1         X   5361191.0\n",
              "1    m1         Y   1820522.0\n",
              "2    m1         Z    877233.0\n",
              "3    m2         X  10290657.0\n",
              "4    m2         Y   7745847.0"
            ]
          },
          "metadata": {
            "tags": []
          },
          "execution_count": 36
        }
      ]
    },
    {
      "cell_type": "code",
      "metadata": {
        "colab": {
          "base_uri": "https://localhost:8080/",
          "height": 406
        },
        "id": "T6PtxVX0dzCp",
        "outputId": "e2cbb091-28eb-41e1-fef3-c8d00e7228ee"
      },
      "source": [
        "f, ax = plt.subplots(figsize=(15, 6))\n",
        "ax = sns.barplot(x=\"month\", \n",
        "                 y=\"demand\", \n",
        "                 data=df_monthly_unstacked[df_monthly_unstacked['xyz_class']=='X'],\n",
        "                 palette=\"Blues_d\")\\\n",
        "                 .set_title(\"X class demand by month\",fontsize=15)"
      ],
      "execution_count": null,
      "outputs": [
        {
          "output_type": "display_data",
          "data": {
            "image/png": "[encoded data removed]",
            "text/plain": [
              "<Figure size 1080x432 with 1 Axes>"
            ]
          },
          "metadata": {
            "tags": [],
            "needs_background": "light"
          }
        }
      ]
    },
    {
      "cell_type": "code",
      "metadata": {
        "colab": {
          "base_uri": "https://localhost:8080/",
          "height": 406
        },
        "id": "PR71kp8sAmGP",
        "outputId": "a2706a70-8376-4bfd-afb9-419e41223fea"
      },
      "source": [
        "f, ax = plt.subplots(figsize=(15, 6))\n",
        "ax = sns.barplot(x=\"month\", \n",
        "                 y=\"demand\", \n",
        "                 data=df_monthly_unstacked[df_monthly_unstacked['xyz_class']=='Y'],\n",
        "                 palette=\"Blues_d\")\\\n",
        "                 .set_title(\"Y class demand by month\",fontsize=15)"
      ],
      "execution_count": null,
      "outputs": [
        {
          "output_type": "display_data",
          "data": {
            "image/png": "[encoded data removed]",
            "text/plain": [
              "<Figure size 1080x432 with 1 Axes>"
            ]
          },
          "metadata": {
            "tags": [],
            "needs_background": "light"
          }
        }
      ]
    },
    {
      "cell_type": "code",
      "metadata": {
        "colab": {
          "base_uri": "https://localhost:8080/",
          "height": 406
        },
        "id": "IZkljkn8Apvn",
        "outputId": "88814cf0-e4cd-4b1c-c086-7ee97741c953"
      },
      "source": [
        "f, ax = plt.subplots(figsize=(15, 6))\n",
        "ax = sns.barplot(x=\"month\", \n",
        "                 y=\"demand\", \n",
        "                 data=df_monthly_unstacked[df_monthly_unstacked['xyz_class']=='Z'],\n",
        "                 palette=\"Blues_d\")\\\n",
        "                 .set_title(\"Z class demand by month\",fontsize=15)"
      ],
      "execution_count": null,
      "outputs": [
        {
          "output_type": "display_data",
          "data": {
            "image/png": "[encoded data removed]",
            "text/plain": [
              "<Figure size 1080x432 with 1 Axes>"
            ]
          },
          "metadata": {
            "tags": [],
            "needs_background": "light"
          }
        }
      ]
    },
    {
      "cell_type": "code",
      "metadata": {
        "colab": {
          "base_uri": "https://localhost:8080/",
          "height": 406
        },
        "id": "MaYTiQMxAs1P",
        "outputId": "efe25ae1-e290-40b2-b169-e226da21bee5"
      },
      "source": [
        "f, ax = plt.subplots(figsize=(15, 6))\n",
        "ax = sns.barplot(x=\"month\", \n",
        "                 y=\"demand\", \n",
        "                 hue=\"xyz_class\", \n",
        "                 data=df_monthly_unstacked,\n",
        "                 palette=\"Blues_d\")\\\n",
        "                .set_title(\"XYZ demand by month\",fontsize=15)"
      ],
      "execution_count": null,
      "outputs": [
        {
          "output_type": "display_data",
          "data": {
            "image/png": "[encoded data removed]",
            "text/plain": [
              "<Figure size 1080x432 with 1 Axes>"
            ]
          },
          "metadata": {
            "tags": [],
            "needs_background": "light"
          }
        }
      ]
    },
    {
      "cell_type": "code",
      "metadata": {
        "id": "yFjq8892Awrn"
      },
      "source": [
        "df_skus = df_12m.groupby('id').agg(\n",
        "    unique_purchases=('Sku', 'nunique'),\n",
        "    total_units=('Consumo', 'sum'),\n",
        "    total_revenue=('Receita', 'sum'),\n",
        ").sort_values(by='total_revenue', ascending=False).reset_index()\n",
        "#df_skus['unique_purchases'] = df_skus['id'].nunique()"
      ],
      "execution_count": null,
      "outputs": []
    },
    {
      "cell_type": "code",
      "metadata": {
        "colab": {
          "base_uri": "https://localhost:8080/",
          "height": 408
        },
        "id": "0x8-TCkZZ-rz",
        "outputId": "dd2738ec-d193-4f08-e070-e8a412c20f46"
      },
      "source": [
        "df_skus.head(-5)"
      ],
      "execution_count": null,
      "outputs": [
        {
          "output_type": "execute_result",
          "data": {
            "text/html": [
              "<div>\n",
              "<style scoped>\n",
              "    .dataframe tbody tr th:only-of-type {\n",
              "        vertical-align: middle;\n",
              "    }\n",
              "\n",
              "    .dataframe tbody tr th {\n",
              "        vertical-align: top;\n",
              "    }\n",
              "\n",
              "    .dataframe thead th {\n",
              "        text-align: right;\n",
              "    }\n",
              "</style>\n",
              "<table border=\"1\" class=\"dataframe\">\n",
              "  <thead>\n",
              "    <tr style=\"text-align: right;\">\n",
              "      <th></th>\n",
              "      <th>id</th>\n",
              "      <th>unique_purchases</th>\n",
              "      <th>total_units</th>\n",
              "      <th>total_revenue</th>\n",
              "    </tr>\n",
              "  </thead>\n",
              "  <tbody>\n",
              "    <tr>\n",
              "      <th>0</th>\n",
              "      <td>D04310017740</td>\n",
              "      <td>1</td>\n",
              "      <td>768</td>\n",
              "      <td>33024000</td>\n",
              "    </tr>\n",
              "    <tr>\n",
              "      <th>1</th>\n",
              "      <td>D04410017516</td>\n",
              "      <td>1</td>\n",
              "      <td>8175</td>\n",
              "      <td>13734000</td>\n",
              "    </tr>\n",
              "    <tr>\n",
              "      <th>2</th>\n",
              "      <td>D04310017516</td>\n",
              "      <td>1</td>\n",
              "      <td>7298</td>\n",
              "      <td>12260640</td>\n",
              "    </tr>\n",
              "    <tr>\n",
              "      <th>3</th>\n",
              "      <td>D04310017245</td>\n",
              "      <td>1</td>\n",
              "      <td>515</td>\n",
              "      <td>8676322</td>\n",
              "    </tr>\n",
              "    <tr>\n",
              "      <th>4</th>\n",
              "      <td>D04310017484</td>\n",
              "      <td>1</td>\n",
              "      <td>995</td>\n",
              "      <td>8391373</td>\n",
              "    </tr>\n",
              "    <tr>\n",
              "      <th>...</th>\n",
              "      <td>...</td>\n",
              "      <td>...</td>\n",
              "      <td>...</td>\n",
              "      <td>...</td>\n",
              "    </tr>\n",
              "    <tr>\n",
              "      <th>18448</th>\n",
              "      <td>D04410014020</td>\n",
              "      <td>1</td>\n",
              "      <td>5</td>\n",
              "      <td>0</td>\n",
              "    </tr>\n",
              "    <tr>\n",
              "      <th>18449</th>\n",
              "      <td>G20810010639</td>\n",
              "      <td>1</td>\n",
              "      <td>82</td>\n",
              "      <td>0</td>\n",
              "    </tr>\n",
              "    <tr>\n",
              "      <th>18450</th>\n",
              "      <td>D04410010723</td>\n",
              "      <td>1</td>\n",
              "      <td>20</td>\n",
              "      <td>0</td>\n",
              "    </tr>\n",
              "    <tr>\n",
              "      <th>18451</th>\n",
              "      <td>D04410008854</td>\n",
              "      <td>1</td>\n",
              "      <td>43</td>\n",
              "      <td>0</td>\n",
              "    </tr>\n",
              "    <tr>\n",
              "      <th>18452</th>\n",
              "      <td>D04410002593</td>\n",
              "      <td>1</td>\n",
              "      <td>47</td>\n",
              "      <td>0</td>\n",
              "    </tr>\n",
              "  </tbody>\n",
              "</table>\n",
              "<p>18453 rows × 4 columns</p>\n",
              "</div>"
            ],
            "text/plain": [
              "                 id  unique_purchases  total_units  total_revenue\n",
              "0      D04310017740                 1          768       33024000\n",
              "1      D04410017516                 1         8175       13734000\n",
              "2      D04310017516                 1         7298       12260640\n",
              "3      D04310017245                 1          515        8676322\n",
              "4      D04310017484                 1          995        8391373\n",
              "...             ...               ...          ...            ...\n",
              "18448  D04410014020                 1            5              0\n",
              "18449  G20810010639                 1           82              0\n",
              "18450  D04410010723                 1           20              0\n",
              "18451  D04410008854                 1           43              0\n",
              "18452  D04410002593                 1           47              0\n",
              "\n",
              "[18453 rows x 4 columns]"
            ]
          },
          "metadata": {
            "tags": []
          },
          "execution_count": 47
        }
      ]
    },
    {
      "cell_type": "code",
      "metadata": {
        "id": "i8gugLqmYxqh"
      },
      "source": [
        "df_skus[\"Centro\"]= df_skus['id'].str[:4]\n",
        "df_skus[\"Sku\"]= df_skus['id'].str[4:]"
      ],
      "execution_count": null,
      "outputs": []
    },
    {
      "cell_type": "code",
      "metadata": {
        "colab": {
          "base_uri": "https://localhost:8080/",
          "height": 200
        },
        "id": "-Ep8JD70Y4wY",
        "outputId": "c49305a6-937f-47a9-bab2-ff8516fd39b8"
      },
      "source": [
        "df_skus.head()"
      ],
      "execution_count": null,
      "outputs": [
        {
          "output_type": "execute_result",
          "data": {
            "text/html": [
              "<div>\n",
              "<style scoped>\n",
              "    .dataframe tbody tr th:only-of-type {\n",
              "        vertical-align: middle;\n",
              "    }\n",
              "\n",
              "    .dataframe tbody tr th {\n",
              "        vertical-align: top;\n",
              "    }\n",
              "\n",
              "    .dataframe thead th {\n",
              "        text-align: right;\n",
              "    }\n",
              "</style>\n",
              "<table border=\"1\" class=\"dataframe\">\n",
              "  <thead>\n",
              "    <tr style=\"text-align: right;\">\n",
              "      <th></th>\n",
              "      <th>id</th>\n",
              "      <th>unique_purchases</th>\n",
              "      <th>total_units</th>\n",
              "      <th>total_revenue</th>\n",
              "      <th>Centro</th>\n",
              "      <th>Sku</th>\n",
              "    </tr>\n",
              "  </thead>\n",
              "  <tbody>\n",
              "    <tr>\n",
              "      <th>0</th>\n",
              "      <td>D04310017740</td>\n",
              "      <td>1</td>\n",
              "      <td>768</td>\n",
              "      <td>33024000</td>\n",
              "      <td>D043</td>\n",
              "      <td>10017740</td>\n",
              "    </tr>\n",
              "    <tr>\n",
              "      <th>1</th>\n",
              "      <td>D04410017516</td>\n",
              "      <td>1</td>\n",
              "      <td>8175</td>\n",
              "      <td>13734000</td>\n",
              "      <td>D044</td>\n",
              "      <td>10017516</td>\n",
              "    </tr>\n",
              "    <tr>\n",
              "      <th>2</th>\n",
              "      <td>D04310017516</td>\n",
              "      <td>1</td>\n",
              "      <td>7298</td>\n",
              "      <td>12260640</td>\n",
              "      <td>D043</td>\n",
              "      <td>10017516</td>\n",
              "    </tr>\n",
              "    <tr>\n",
              "      <th>3</th>\n",
              "      <td>D04310017245</td>\n",
              "      <td>1</td>\n",
              "      <td>515</td>\n",
              "      <td>8676322</td>\n",
              "      <td>D043</td>\n",
              "      <td>10017245</td>\n",
              "    </tr>\n",
              "    <tr>\n",
              "      <th>4</th>\n",
              "      <td>D04310017484</td>\n",
              "      <td>1</td>\n",
              "      <td>995</td>\n",
              "      <td>8391373</td>\n",
              "      <td>D043</td>\n",
              "      <td>10017484</td>\n",
              "    </tr>\n",
              "  </tbody>\n",
              "</table>\n",
              "</div>"
            ],
            "text/plain": [
              "             id  unique_purchases  total_units  total_revenue Centro       Sku\n",
              "0  D04310017740                 1          768       33024000   D043  10017740\n",
              "1  D04410017516                 1         8175       13734000   D044  10017516\n",
              "2  D04310017516                 1         7298       12260640   D043  10017516\n",
              "3  D04310017245                 1          515        8676322   D043  10017245\n",
              "4  D04310017484                 1          995        8391373   D043  10017484"
            ]
          },
          "metadata": {
            "tags": []
          },
          "execution_count": 49
        }
      ]
    },
    {
      "cell_type": "code",
      "metadata": {
        "id": "lRuZMP5SZjQI"
      },
      "source": [
        "df_skus['revenue_cumsum'] = df_skus.groupby('Centro')['total_revenue'].cumsum()"
      ],
      "execution_count": null,
      "outputs": []
    },
    {
      "cell_type": "code",
      "metadata": {
        "id": "LY2Hd_4LedY3"
      },
      "source": [
        "df_skus['revenue_total'] = df_skus.groupby('Centro')['total_revenue'].transform(np.sum).fillna(value=0)"
      ],
      "execution_count": null,
      "outputs": []
    },
    {
      "cell_type": "code",
      "metadata": {
        "id": "pfJk18M3ZdUY"
      },
      "source": [
        "df_skus['revenue_running_percentage'] = (df_skus['revenue_cumsum'] / df_skus['revenue_total']).fillna(value=0) * 100"
      ],
      "execution_count": null,
      "outputs": []
    },
    {
      "cell_type": "code",
      "metadata": {
        "colab": {
          "base_uri": "https://localhost:8080/",
          "height": 351
        },
        "id": "FMB6z51qehEm",
        "outputId": "8ded7fe9-3af8-44c1-ec5b-5df0ca0ed8ae"
      },
      "source": [
        "df_skus.sample(10)"
      ],
      "execution_count": null,
      "outputs": [
        {
          "output_type": "execute_result",
          "data": {
            "text/html": [
              "<div>\n",
              "<style scoped>\n",
              "    .dataframe tbody tr th:only-of-type {\n",
              "        vertical-align: middle;\n",
              "    }\n",
              "\n",
              "    .dataframe tbody tr th {\n",
              "        vertical-align: top;\n",
              "    }\n",
              "\n",
              "    .dataframe thead th {\n",
              "        text-align: right;\n",
              "    }\n",
              "</style>\n",
              "<table border=\"1\" class=\"dataframe\">\n",
              "  <thead>\n",
              "    <tr style=\"text-align: right;\">\n",
              "      <th></th>\n",
              "      <th>id</th>\n",
              "      <th>unique_purchases</th>\n",
              "      <th>total_units</th>\n",
              "      <th>total_revenue</th>\n",
              "      <th>Centro</th>\n",
              "      <th>Sku</th>\n",
              "      <th>revenue_cumsum</th>\n",
              "      <th>revenue_total</th>\n",
              "      <th>revenue_running_percentage</th>\n",
              "    </tr>\n",
              "  </thead>\n",
              "  <tbody>\n",
              "    <tr>\n",
              "      <th>11277</th>\n",
              "      <td>G20810017374</td>\n",
              "      <td>1</td>\n",
              "      <td>3</td>\n",
              "      <td>801</td>\n",
              "      <td>G208</td>\n",
              "      <td>10017374</td>\n",
              "      <td>273011</td>\n",
              "      <td>329280</td>\n",
              "      <td>82.911504</td>\n",
              "    </tr>\n",
              "    <tr>\n",
              "      <th>8420</th>\n",
              "      <td>D04410018353</td>\n",
              "      <td>1</td>\n",
              "      <td>2</td>\n",
              "      <td>1986</td>\n",
              "      <td>D044</td>\n",
              "      <td>10018353</td>\n",
              "      <td>93836916</td>\n",
              "      <td>94785373</td>\n",
              "      <td>98.999364</td>\n",
              "    </tr>\n",
              "    <tr>\n",
              "      <th>13924</th>\n",
              "      <td>P02420002922</td>\n",
              "      <td>1</td>\n",
              "      <td>36</td>\n",
              "      <td>324</td>\n",
              "      <td>P024</td>\n",
              "      <td>20002922</td>\n",
              "      <td>2001913</td>\n",
              "      <td>2019347</td>\n",
              "      <td>99.136652</td>\n",
              "    </tr>\n",
              "    <tr>\n",
              "      <th>9021</th>\n",
              "      <td>D47710010689</td>\n",
              "      <td>1</td>\n",
              "      <td>438</td>\n",
              "      <td>1632</td>\n",
              "      <td>D477</td>\n",
              "      <td>10010689</td>\n",
              "      <td>8124070</td>\n",
              "      <td>8393320</td>\n",
              "      <td>96.792092</td>\n",
              "    </tr>\n",
              "    <tr>\n",
              "      <th>16610</th>\n",
              "      <td>D04410010790</td>\n",
              "      <td>1</td>\n",
              "      <td>345</td>\n",
              "      <td>73</td>\n",
              "      <td>D044</td>\n",
              "      <td>10010790</td>\n",
              "      <td>94777922</td>\n",
              "      <td>94785373</td>\n",
              "      <td>99.992139</td>\n",
              "    </tr>\n",
              "    <tr>\n",
              "      <th>9164</th>\n",
              "      <td>DA0410008837</td>\n",
              "      <td>1</td>\n",
              "      <td>57</td>\n",
              "      <td>1560</td>\n",
              "      <td>DA04</td>\n",
              "      <td>10008837</td>\n",
              "      <td>29403689</td>\n",
              "      <td>29718051</td>\n",
              "      <td>98.942185</td>\n",
              "    </tr>\n",
              "    <tr>\n",
              "      <th>1200</th>\n",
              "      <td>C00310016917</td>\n",
              "      <td>1</td>\n",
              "      <td>21671</td>\n",
              "      <td>56132</td>\n",
              "      <td>C003</td>\n",
              "      <td>10016917</td>\n",
              "      <td>24427115</td>\n",
              "      <td>31398175</td>\n",
              "      <td>77.797882</td>\n",
              "    </tr>\n",
              "    <tr>\n",
              "      <th>3335</th>\n",
              "      <td>D04410014780</td>\n",
              "      <td>1</td>\n",
              "      <td>80</td>\n",
              "      <td>13490</td>\n",
              "      <td>D044</td>\n",
              "      <td>10014780</td>\n",
              "      <td>88115466</td>\n",
              "      <td>94785373</td>\n",
              "      <td>92.963147</td>\n",
              "    </tr>\n",
              "    <tr>\n",
              "      <th>3550</th>\n",
              "      <td>D04420002936</td>\n",
              "      <td>1</td>\n",
              "      <td>795</td>\n",
              "      <td>12129</td>\n",
              "      <td>D044</td>\n",
              "      <td>20002936</td>\n",
              "      <td>88834409</td>\n",
              "      <td>94785373</td>\n",
              "      <td>93.721643</td>\n",
              "    </tr>\n",
              "    <tr>\n",
              "      <th>14751</th>\n",
              "      <td>D47710002242</td>\n",
              "      <td>1</td>\n",
              "      <td>1</td>\n",
              "      <td>225</td>\n",
              "      <td>D477</td>\n",
              "      <td>10002242</td>\n",
              "      <td>8374523</td>\n",
              "      <td>8393320</td>\n",
              "      <td>99.776048</td>\n",
              "    </tr>\n",
              "  </tbody>\n",
              "</table>\n",
              "</div>"
            ],
            "text/plain": [
              "                 id  ...  revenue_running_percentage\n",
              "11277  G20810017374  ...                   82.911504\n",
              "8420   D04410018353  ...                   98.999364\n",
              "13924  P02420002922  ...                   99.136652\n",
              "9021   D47710010689  ...                   96.792092\n",
              "16610  D04410010790  ...                   99.992139\n",
              "9164   DA0410008837  ...                   98.942185\n",
              "1200   C00310016917  ...                   77.797882\n",
              "3335   D04410014780  ...                   92.963147\n",
              "3550   D04420002936  ...                   93.721643\n",
              "14751  D47710002242  ...                   99.776048\n",
              "\n",
              "[10 rows x 9 columns]"
            ]
          },
          "metadata": {
            "tags": []
          },
          "execution_count": 53
        }
      ]
    },
    {
      "cell_type": "code",
      "metadata": {
        "id": "fX6PkhFvemWP"
      },
      "source": [
        "def abc_classify_product(percentage):\n",
        "    \"\"\"Apply an ABC classification to each product based on \n",
        "    its ranked percentage revenue contribution. Any split \n",
        "    can be used to suit your data. \n",
        "\n",
        "    :param percentage: Running percentage of revenue contributed\n",
        "    :return: ABC inventory classification\n",
        "    \"\"\"\n",
        "\n",
        "    if percentage > 0 and percentage <= 80:\n",
        "        return 'A'\n",
        "    elif percentage > 80 and percentage <= 90:\n",
        "        return 'B'\n",
        "    else:\n",
        "        return 'C'"
      ],
      "execution_count": null,
      "outputs": []
    },
    {
      "cell_type": "code",
      "metadata": {
        "colab": {
          "base_uri": "https://localhost:8080/",
          "height": 200
        },
        "id": "-TKsmVBkennp",
        "outputId": "03cf7b31-b03b-4ade-8ae6-ba42fae1d30c"
      },
      "source": [
        "df_skus['abc_class'] = df_skus['revenue_running_percentage'].apply(abc_classify_product)\n",
        "df_skus['abc_rank'] = df_skus['revenue_running_percentage'].rank().astype(int)\n",
        "df_skus.head()"
      ],
      "execution_count": null,
      "outputs": [
        {
          "output_type": "execute_result",
          "data": {
            "text/html": [
              "<div>\n",
              "<style scoped>\n",
              "    .dataframe tbody tr th:only-of-type {\n",
              "        vertical-align: middle;\n",
              "    }\n",
              "\n",
              "    .dataframe tbody tr th {\n",
              "        vertical-align: top;\n",
              "    }\n",
              "\n",
              "    .dataframe thead th {\n",
              "        text-align: right;\n",
              "    }\n",
              "</style>\n",
              "<table border=\"1\" class=\"dataframe\">\n",
              "  <thead>\n",
              "    <tr style=\"text-align: right;\">\n",
              "      <th></th>\n",
              "      <th>id</th>\n",
              "      <th>unique_purchases</th>\n",
              "      <th>total_units</th>\n",
              "      <th>total_revenue</th>\n",
              "      <th>Centro</th>\n",
              "      <th>Sku</th>\n",
              "      <th>revenue_cumsum</th>\n",
              "      <th>revenue_total</th>\n",
              "      <th>revenue_running_percentage</th>\n",
              "      <th>abc_class</th>\n",
              "      <th>abc_rank</th>\n",
              "    </tr>\n",
              "  </thead>\n",
              "  <tbody>\n",
              "    <tr>\n",
              "      <th>0</th>\n",
              "      <td>D04310017740</td>\n",
              "      <td>1</td>\n",
              "      <td>768</td>\n",
              "      <td>33024000</td>\n",
              "      <td>D043</td>\n",
              "      <td>10017740</td>\n",
              "      <td>33024000</td>\n",
              "      <td>206113545</td>\n",
              "      <td>16.022237</td>\n",
              "      <td>A</td>\n",
              "      <td>46</td>\n",
              "    </tr>\n",
              "    <tr>\n",
              "      <th>1</th>\n",
              "      <td>D04410017516</td>\n",
              "      <td>1</td>\n",
              "      <td>8175</td>\n",
              "      <td>13734000</td>\n",
              "      <td>D044</td>\n",
              "      <td>10017516</td>\n",
              "      <td>13734000</td>\n",
              "      <td>94785373</td>\n",
              "      <td>14.489577</td>\n",
              "      <td>A</td>\n",
              "      <td>40</td>\n",
              "    </tr>\n",
              "    <tr>\n",
              "      <th>2</th>\n",
              "      <td>D04310017516</td>\n",
              "      <td>1</td>\n",
              "      <td>7298</td>\n",
              "      <td>12260640</td>\n",
              "      <td>D043</td>\n",
              "      <td>10017516</td>\n",
              "      <td>45284640</td>\n",
              "      <td>206113545</td>\n",
              "      <td>21.970725</td>\n",
              "      <td>A</td>\n",
              "      <td>67</td>\n",
              "    </tr>\n",
              "    <tr>\n",
              "      <th>3</th>\n",
              "      <td>D04310017245</td>\n",
              "      <td>1</td>\n",
              "      <td>515</td>\n",
              "      <td>8676322</td>\n",
              "      <td>D043</td>\n",
              "      <td>10017245</td>\n",
              "      <td>53960962</td>\n",
              "      <td>206113545</td>\n",
              "      <td>26.180211</td>\n",
              "      <td>A</td>\n",
              "      <td>87</td>\n",
              "    </tr>\n",
              "    <tr>\n",
              "      <th>4</th>\n",
              "      <td>D04310017484</td>\n",
              "      <td>1</td>\n",
              "      <td>995</td>\n",
              "      <td>8391373</td>\n",
              "      <td>D043</td>\n",
              "      <td>10017484</td>\n",
              "      <td>62352335</td>\n",
              "      <td>206113545</td>\n",
              "      <td>30.251450</td>\n",
              "      <td>A</td>\n",
              "      <td>113</td>\n",
              "    </tr>\n",
              "  </tbody>\n",
              "</table>\n",
              "</div>"
            ],
            "text/plain": [
              "             id  unique_purchases  ...  abc_class  abc_rank\n",
              "0  D04310017740                 1  ...          A        46\n",
              "1  D04410017516                 1  ...          A        40\n",
              "2  D04310017516                 1  ...          A        67\n",
              "3  D04310017245                 1  ...          A        87\n",
              "4  D04310017484                 1  ...          A       113\n",
              "\n",
              "[5 rows x 11 columns]"
            ]
          },
          "metadata": {
            "tags": []
          },
          "execution_count": 55
        }
      ]
    },
    {
      "cell_type": "code",
      "metadata": {
        "colab": {
          "base_uri": "https://localhost:8080/",
          "height": 138
        },
        "id": "HjmutzXies5-",
        "outputId": "f4b660de-ca42-44cc-eab8-5cc222814afd"
      },
      "source": [
        "df_abc = df_skus.groupby('abc_class').agg(\n",
        "    total_skus=('id', 'nunique'),\n",
        "    total_units=('total_units', sum),\n",
        "    total_revenue=('total_revenue', sum),\n",
        ").reset_index()\n",
        "\n",
        "df_abc"
      ],
      "execution_count": null,
      "outputs": [
        {
          "output_type": "execute_result",
          "data": {
            "text/html": [
              "<div>\n",
              "<style scoped>\n",
              "    .dataframe tbody tr th:only-of-type {\n",
              "        vertical-align: middle;\n",
              "    }\n",
              "\n",
              "    .dataframe tbody tr th {\n",
              "        vertical-align: top;\n",
              "    }\n",
              "\n",
              "    .dataframe thead th {\n",
              "        text-align: right;\n",
              "    }\n",
              "</style>\n",
              "<table border=\"1\" class=\"dataframe\">\n",
              "  <thead>\n",
              "    <tr style=\"text-align: right;\">\n",
              "      <th></th>\n",
              "      <th>abc_class</th>\n",
              "      <th>total_skus</th>\n",
              "      <th>total_units</th>\n",
              "      <th>total_revenue</th>\n",
              "    </tr>\n",
              "  </thead>\n",
              "  <tbody>\n",
              "    <tr>\n",
              "      <th>0</th>\n",
              "      <td>A</td>\n",
              "      <td>1798</td>\n",
              "      <td>51002711</td>\n",
              "      <td>353916955</td>\n",
              "    </tr>\n",
              "    <tr>\n",
              "      <th>1</th>\n",
              "      <td>B</td>\n",
              "      <td>1667</td>\n",
              "      <td>13560813</td>\n",
              "      <td>44506137</td>\n",
              "    </tr>\n",
              "    <tr>\n",
              "      <th>2</th>\n",
              "      <td>C</td>\n",
              "      <td>14993</td>\n",
              "      <td>17450250</td>\n",
              "      <td>44338147</td>\n",
              "    </tr>\n",
              "  </tbody>\n",
              "</table>\n",
              "</div>"
            ],
            "text/plain": [
              "  abc_class  total_skus  total_units  total_revenue\n",
              "0         A        1798     51002711      353916955\n",
              "1         B        1667     13560813       44506137\n",
              "2         C       14993     17450250       44338147"
            ]
          },
          "metadata": {
            "tags": []
          },
          "execution_count": 56
        }
      ]
    },
    {
      "cell_type": "code",
      "metadata": {
        "colab": {
          "base_uri": "https://localhost:8080/",
          "height": 407
        },
        "id": "4O2o9BFme2NB",
        "outputId": "5974acea-45bb-4c22-bd14-4ff0027dbf60"
      },
      "source": [
        "f, ax = plt.subplots(figsize=(15, 6))\n",
        "ax = sns.barplot(x=\"abc_class\", \n",
        "                 y=\"total_revenue\", \n",
        "                 data=df_abc,\n",
        "                 palette=\"Blues_d\")\\\n",
        "                .set_title(\"Revenue by ABC class\",fontsize=15)"
      ],
      "execution_count": null,
      "outputs": [
        {
          "output_type": "display_data",
          "data": {
            "image/png": "[encoded data removed]",
            "text/plain": [
              "<Figure size 1080x432 with 1 Axes>"
            ]
          },
          "metadata": {
            "tags": [],
            "needs_background": "light"
          }
        }
      ]
    },
    {
      "cell_type": "code",
      "metadata": {
        "colab": {
          "base_uri": "https://localhost:8080/",
          "height": 407
        },
        "id": "1E21IWcae42w",
        "outputId": "c6441551-3470-4612-e67a-541459c6d522"
      },
      "source": [
        "f, ax = plt.subplots(figsize=(15, 6))\n",
        "ax = sns.barplot(x=\"abc_class\", \n",
        "                 y=\"total_skus\", \n",
        "                 data=df_abc,\n",
        "                 palette=\"Blues_d\")\\\n",
        "                .set_title(\"SKUs by ABC class\",fontsize=15)"
      ],
      "execution_count": null,
      "outputs": [
        {
          "output_type": "display_data",
          "data": {
            "image/png": "[encoded data removed]",
            "text/plain": [
              "<Figure size 1080x432 with 1 Axes>"
            ]
          },
          "metadata": {
            "tags": [],
            "needs_background": "light"
          }
        }
      ]
    },
    {
      "cell_type": "code",
      "metadata": {
        "colab": {
          "base_uri": "https://localhost:8080/",
          "height": 407
        },
        "id": "WwnGmeJoe8FX",
        "outputId": "6c637ab1-75fa-48d5-b954-81a6710e0581"
      },
      "source": [
        "f, ax = plt.subplots(figsize=(15, 6))\n",
        "ax = sns.barplot(x=\"abc_class\", \n",
        "                 y=\"total_units\", \n",
        "                 data=df_abc,\n",
        "                 palette=\"Blues_d\")\\\n",
        "                .set_title(\"Quantity by ABC class\",fontsize=15)"
      ],
      "execution_count": null,
      "outputs": [
        {
          "output_type": "display_data",
          "data": {
            "image/png": "[encoded data removed]",
            "text/plain": [
              "<Figure size 1080x432 with 1 Axes>"
            ]
          },
          "metadata": {
            "tags": [],
            "needs_background": "light"
          }
        }
      ]
    },
    {
      "cell_type": "code",
      "metadata": {
        "colab": {
          "base_uri": "https://localhost:8080/",
          "height": 200
        },
        "id": "QkI__RPxe-_t",
        "outputId": "b3fa620a-f9b3-4cfc-d76d-bd001f528efc"
      },
      "source": [
        "df_abc = df_skus[['id','abc_class','abc_rank','total_revenue']]\n",
        "df_xyz = df_units.copy()\n",
        "df_abc_xyz = df_abc.merge(df_xyz, on='id', how='left')\n",
        "df_abc_xyz.head()"
      ],
      "execution_count": null,
      "outputs": [
        {
          "output_type": "execute_result",
          "data": {
            "text/html": [
              "<div>\n",
              "<style scoped>\n",
              "    .dataframe tbody tr th:only-of-type {\n",
              "        vertical-align: middle;\n",
              "    }\n",
              "\n",
              "    .dataframe tbody tr th {\n",
              "        vertical-align: top;\n",
              "    }\n",
              "\n",
              "    .dataframe thead th {\n",
              "        text-align: right;\n",
              "    }\n",
              "</style>\n",
              "<table border=\"1\" class=\"dataframe\">\n",
              "  <thead>\n",
              "    <tr style=\"text-align: right;\">\n",
              "      <th></th>\n",
              "      <th>id</th>\n",
              "      <th>abc_class</th>\n",
              "      <th>abc_rank</th>\n",
              "      <th>total_revenue</th>\n",
              "      <th>m1</th>\n",
              "      <th>m2</th>\n",
              "      <th>m3</th>\n",
              "      <th>m4</th>\n",
              "      <th>m5</th>\n",
              "      <th>std_demand</th>\n",
              "      <th>total_demand</th>\n",
              "      <th>avg_demand</th>\n",
              "      <th>cov_demand</th>\n",
              "      <th>xyz_class</th>\n",
              "    </tr>\n",
              "  </thead>\n",
              "  <tbody>\n",
              "    <tr>\n",
              "      <th>0</th>\n",
              "      <td>D04310017740</td>\n",
              "      <td>A</td>\n",
              "      <td>46</td>\n",
              "      <td>33024000</td>\n",
              "      <td>155.0</td>\n",
              "      <td>39.0</td>\n",
              "      <td>85.0</td>\n",
              "      <td>139.0</td>\n",
              "      <td>350.0</td>\n",
              "      <td>118.982352</td>\n",
              "      <td>768.0</td>\n",
              "      <td>153.6</td>\n",
              "      <td>0.774625</td>\n",
              "      <td>Y</td>\n",
              "    </tr>\n",
              "    <tr>\n",
              "      <th>1</th>\n",
              "      <td>D04410017516</td>\n",
              "      <td>A</td>\n",
              "      <td>40</td>\n",
              "      <td>13734000</td>\n",
              "      <td>10.0</td>\n",
              "      <td>539.0</td>\n",
              "      <td>1576.0</td>\n",
              "      <td>1727.0</td>\n",
              "      <td>4323.0</td>\n",
              "      <td>1664.266355</td>\n",
              "      <td>8175.0</td>\n",
              "      <td>1635.0</td>\n",
              "      <td>1.017900</td>\n",
              "      <td>Z</td>\n",
              "    </tr>\n",
              "    <tr>\n",
              "      <th>2</th>\n",
              "      <td>D04310017516</td>\n",
              "      <td>A</td>\n",
              "      <td>67</td>\n",
              "      <td>12260640</td>\n",
              "      <td>972.0</td>\n",
              "      <td>1057.0</td>\n",
              "      <td>1006.0</td>\n",
              "      <td>631.0</td>\n",
              "      <td>3632.0</td>\n",
              "      <td>1225.917330</td>\n",
              "      <td>7298.0</td>\n",
              "      <td>1459.6</td>\n",
              "      <td>0.839900</td>\n",
              "      <td>Y</td>\n",
              "    </tr>\n",
              "    <tr>\n",
              "      <th>3</th>\n",
              "      <td>D04310017245</td>\n",
              "      <td>A</td>\n",
              "      <td>87</td>\n",
              "      <td>8676322</td>\n",
              "      <td>97.0</td>\n",
              "      <td>124.0</td>\n",
              "      <td>190.0</td>\n",
              "      <td>95.0</td>\n",
              "      <td>9.0</td>\n",
              "      <td>65.088401</td>\n",
              "      <td>515.0</td>\n",
              "      <td>103.0</td>\n",
              "      <td>0.631926</td>\n",
              "      <td>Y</td>\n",
              "    </tr>\n",
              "    <tr>\n",
              "      <th>4</th>\n",
              "      <td>D04310017484</td>\n",
              "      <td>A</td>\n",
              "      <td>113</td>\n",
              "      <td>8391373</td>\n",
              "      <td>163.0</td>\n",
              "      <td>263.0</td>\n",
              "      <td>219.0</td>\n",
              "      <td>240.0</td>\n",
              "      <td>110.0</td>\n",
              "      <td>62.036280</td>\n",
              "      <td>995.0</td>\n",
              "      <td>199.0</td>\n",
              "      <td>0.311740</td>\n",
              "      <td>X</td>\n",
              "    </tr>\n",
              "  </tbody>\n",
              "</table>\n",
              "</div>"
            ],
            "text/plain": [
              "             id abc_class  abc_rank  ...  avg_demand  cov_demand  xyz_class\n",
              "0  D04310017740         A        46  ...       153.6    0.774625          Y\n",
              "1  D04410017516         A        40  ...      1635.0    1.017900          Z\n",
              "2  D04310017516         A        67  ...      1459.6    0.839900          Y\n",
              "3  D04310017245         A        87  ...       103.0    0.631926          Y\n",
              "4  D04310017484         A       113  ...       199.0    0.311740          X\n",
              "\n",
              "[5 rows x 14 columns]"
            ]
          },
          "metadata": {
            "tags": []
          },
          "execution_count": 60
        }
      ]
    },
    {
      "cell_type": "code",
      "metadata": {
        "id": "g6UUBCLgfHzk"
      },
      "source": [
        "  df_abc_xyz['abc_xyz_class'] = df_abc_xyz['abc_class'].astype(str) + df_abc_xyz['xyz_class'].astype(str)"
      ],
      "execution_count": null,
      "outputs": []
    },
    {
      "cell_type": "code",
      "metadata": {
        "colab": {
          "base_uri": "https://localhost:8080/",
          "height": 320
        },
        "id": "K1oaeUlKfLew",
        "outputId": "8c7cefda-079c-4ff0-bdcd-96954ea0d078"
      },
      "source": [
        "df_abc_xyz_summary = df_abc_xyz.groupby('abc_xyz_class').agg(\n",
        "    total_skus=('id', 'nunique'),\n",
        "    total_demand=('total_demand', sum),\n",
        "    avg_demand=('avg_demand', 'mean'),    \n",
        "    total_revenue=('total_revenue', sum),    \n",
        ").reset_index()\n",
        "\n",
        "df_abc_xyz_summary.sort_values(by='total_revenue', ascending=False)"
      ],
      "execution_count": null,
      "outputs": [
        {
          "output_type": "execute_result",
          "data": {
            "text/html": [
              "<div>\n",
              "<style scoped>\n",
              "    .dataframe tbody tr th:only-of-type {\n",
              "        vertical-align: middle;\n",
              "    }\n",
              "\n",
              "    .dataframe tbody tr th {\n",
              "        vertical-align: top;\n",
              "    }\n",
              "\n",
              "    .dataframe thead th {\n",
              "        text-align: right;\n",
              "    }\n",
              "</style>\n",
              "<table border=\"1\" class=\"dataframe\">\n",
              "  <thead>\n",
              "    <tr style=\"text-align: right;\">\n",
              "      <th></th>\n",
              "      <th>abc_xyz_class</th>\n",
              "      <th>total_skus</th>\n",
              "      <th>total_demand</th>\n",
              "      <th>avg_demand</th>\n",
              "      <th>total_revenue</th>\n",
              "    </tr>\n",
              "  </thead>\n",
              "  <tbody>\n",
              "    <tr>\n",
              "      <th>0</th>\n",
              "      <td>AX</td>\n",
              "      <td>902</td>\n",
              "      <td>28721794.0</td>\n",
              "      <td>6368.468736</td>\n",
              "      <td>141326721</td>\n",
              "    </tr>\n",
              "    <tr>\n",
              "      <th>1</th>\n",
              "      <td>AY</td>\n",
              "      <td>556</td>\n",
              "      <td>19943966.0</td>\n",
              "      <td>7174.088489</td>\n",
              "      <td>135148823</td>\n",
              "    </tr>\n",
              "    <tr>\n",
              "      <th>2</th>\n",
              "      <td>AZ</td>\n",
              "      <td>340</td>\n",
              "      <td>2336951.0</td>\n",
              "      <td>1374.677059</td>\n",
              "      <td>77441411</td>\n",
              "    </tr>\n",
              "    <tr>\n",
              "      <th>3</th>\n",
              "      <td>BX</td>\n",
              "      <td>771</td>\n",
              "      <td>8397721.0</td>\n",
              "      <td>2178.397147</td>\n",
              "      <td>25151153</td>\n",
              "    </tr>\n",
              "    <tr>\n",
              "      <th>6</th>\n",
              "      <td>CX</td>\n",
              "      <td>2788</td>\n",
              "      <td>6580731.0</td>\n",
              "      <td>472.075395</td>\n",
              "      <td>17779213</td>\n",
              "    </tr>\n",
              "    <tr>\n",
              "      <th>7</th>\n",
              "      <td>CY</td>\n",
              "      <td>4053</td>\n",
              "      <td>4523934.0</td>\n",
              "      <td>223.238786</td>\n",
              "      <td>14030168</td>\n",
              "    </tr>\n",
              "    <tr>\n",
              "      <th>8</th>\n",
              "      <td>CZ</td>\n",
              "      <td>8152</td>\n",
              "      <td>6345585.0</td>\n",
              "      <td>155.681673</td>\n",
              "      <td>12528766</td>\n",
              "    </tr>\n",
              "    <tr>\n",
              "      <th>4</th>\n",
              "      <td>BY</td>\n",
              "      <td>525</td>\n",
              "      <td>4458210.0</td>\n",
              "      <td>1698.365714</td>\n",
              "      <td>12406224</td>\n",
              "    </tr>\n",
              "    <tr>\n",
              "      <th>5</th>\n",
              "      <td>BZ</td>\n",
              "      <td>371</td>\n",
              "      <td>704882.0</td>\n",
              "      <td>379.990296</td>\n",
              "      <td>6948760</td>\n",
              "    </tr>\n",
              "  </tbody>\n",
              "</table>\n",
              "</div>"
            ],
            "text/plain": [
              "  abc_xyz_class  total_skus  total_demand   avg_demand  total_revenue\n",
              "0            AX         902    28721794.0  6368.468736      141326721\n",
              "1            AY         556    19943966.0  7174.088489      135148823\n",
              "2            AZ         340     2336951.0  1374.677059       77441411\n",
              "3            BX         771     8397721.0  2178.397147       25151153\n",
              "6            CX        2788     6580731.0   472.075395       17779213\n",
              "7            CY        4053     4523934.0   223.238786       14030168\n",
              "8            CZ        8152     6345585.0   155.681673       12528766\n",
              "4            BY         525     4458210.0  1698.365714       12406224\n",
              "5            BZ         371      704882.0   379.990296        6948760"
            ]
          },
          "metadata": {
            "tags": []
          },
          "execution_count": 62
        }
      ]
    },
    {
      "cell_type": "code",
      "metadata": {
        "colab": {
          "base_uri": "https://localhost:8080/",
          "height": 407
        },
        "id": "ELCFY9OjfRfL",
        "outputId": "6080f067-3da8-414e-fda9-b17e9858d54b"
      },
      "source": [
        "f, ax = plt.subplots(figsize=(15, 6))\n",
        "ax = sns.barplot(x=\"abc_xyz_class\", \n",
        "                 y=\"total_skus\", \n",
        "                 data=df_abc_xyz_summary,\n",
        "                 palette=\"Blues_d\")\\\n",
        "                .set_title(\"SKUs by ABC-XYZ class\",fontsize=15)"
      ],
      "execution_count": null,
      "outputs": [
        {
          "output_type": "display_data",
          "data": {
            "image/png": "[encoded data removed]",
            "text/plain": [
              "<Figure size 1080x432 with 1 Axes>"
            ]
          },
          "metadata": {
            "tags": [],
            "needs_background": "light"
          }
        }
      ]
    },
    {
      "cell_type": "code",
      "metadata": {
        "colab": {
          "base_uri": "https://localhost:8080/",
          "height": 407
        },
        "id": "26WcT0c9fTAT",
        "outputId": "2ed0e9ad-6e57-4b25-c63d-d9251bb8da41"
      },
      "source": [
        "f, ax = plt.subplots(figsize=(15, 6))\n",
        "ax = sns.barplot(x=\"abc_xyz_class\", \n",
        "                 y=\"total_revenue\", \n",
        "                 data=df_abc_xyz_summary, \n",
        "                 palette=\"Blues_d\")\\\n",
        "                .set_title(\"Revenue by ABC-XYZ class\",fontsize=15)"
      ],
      "execution_count": null,
      "outputs": [
        {
          "output_type": "display_data",
          "data": {
            "image/png": "[encoded data removed]",
            "text/plain": [
              "<Figure size 1080x432 with 1 Axes>"
            ]
          },
          "metadata": {
            "tags": [],
            "needs_background": "light"
          }
        }
      ]
    },
    {
      "cell_type": "code",
      "metadata": {
        "colab": {
          "base_uri": "https://localhost:8080/",
          "height": 407
        },
        "id": "jTEQVQecfYFz",
        "outputId": "a5b8b110-bc6a-444c-8167-8ca78385773a"
      },
      "source": [
        "f, ax = plt.subplots(figsize=(15, 6))\n",
        "ax = sns.barplot(x=\"abc_xyz_class\", \n",
        "                 y=\"total_demand\", \n",
        "                 data=df_abc_xyz_summary, \n",
        "                 palette=\"Blues_d\")\\\n",
        "                .set_title(\"Demand by ABC-XYZ class\",fontsize=15)"
      ],
      "execution_count": null,
      "outputs": [
        {
          "output_type": "display_data",
          "data": {
            "image/png": "[encoded data removed]",
            "text/plain": [
              "<Figure size 1080x432 with 1 Axes>"
            ]
          },
          "metadata": {
            "tags": [],
            "needs_background": "light"
          }
        }
      ]
    },
    {
      "cell_type": "code",
      "metadata": {
        "id": "tNq0IitgfZaB"
      },
      "source": [
        "results = df_abc_xyz"
      ],
      "execution_count": null,
      "outputs": []
    },
    {
      "cell_type": "code",
      "metadata": {
        "colab": {
          "base_uri": "https://localhost:8080/",
          "height": 408
        },
        "id": "b84NWUEGmrHx",
        "outputId": "3540515c-7750-47b4-db33-c98ed16837ea"
      },
      "source": [
        "results.head(-10)"
      ],
      "execution_count": null,
      "outputs": [
        {
          "output_type": "execute_result",
          "data": {
            "text/html": [
              "<div>\n",
              "<style scoped>\n",
              "    .dataframe tbody tr th:only-of-type {\n",
              "        vertical-align: middle;\n",
              "    }\n",
              "\n",
              "    .dataframe tbody tr th {\n",
              "        vertical-align: top;\n",
              "    }\n",
              "\n",
              "    .dataframe thead th {\n",
              "        text-align: right;\n",
              "    }\n",
              "</style>\n",
              "<table border=\"1\" class=\"dataframe\">\n",
              "  <thead>\n",
              "    <tr style=\"text-align: right;\">\n",
              "      <th></th>\n",
              "      <th>id</th>\n",
              "      <th>abc_class</th>\n",
              "      <th>abc_rank</th>\n",
              "      <th>total_revenue</th>\n",
              "      <th>m1</th>\n",
              "      <th>m2</th>\n",
              "      <th>m3</th>\n",
              "      <th>m4</th>\n",
              "      <th>m5</th>\n",
              "      <th>std_demand</th>\n",
              "      <th>total_demand</th>\n",
              "      <th>avg_demand</th>\n",
              "      <th>cov_demand</th>\n",
              "      <th>xyz_class</th>\n",
              "      <th>abc_xyz_class</th>\n",
              "    </tr>\n",
              "  </thead>\n",
              "  <tbody>\n",
              "    <tr>\n",
              "      <th>0</th>\n",
              "      <td>D04310017740</td>\n",
              "      <td>A</td>\n",
              "      <td>46</td>\n",
              "      <td>33024000</td>\n",
              "      <td>155.0</td>\n",
              "      <td>39.0</td>\n",
              "      <td>85.0</td>\n",
              "      <td>139.0</td>\n",
              "      <td>350.0</td>\n",
              "      <td>118.982352</td>\n",
              "      <td>768.0</td>\n",
              "      <td>153.6</td>\n",
              "      <td>0.774625</td>\n",
              "      <td>Y</td>\n",
              "      <td>AY</td>\n",
              "    </tr>\n",
              "    <tr>\n",
              "      <th>1</th>\n",
              "      <td>D04410017516</td>\n",
              "      <td>A</td>\n",
              "      <td>40</td>\n",
              "      <td>13734000</td>\n",
              "      <td>10.0</td>\n",
              "      <td>539.0</td>\n",
              "      <td>1576.0</td>\n",
              "      <td>1727.0</td>\n",
              "      <td>4323.0</td>\n",
              "      <td>1664.266355</td>\n",
              "      <td>8175.0</td>\n",
              "      <td>1635.0</td>\n",
              "      <td>1.017900</td>\n",
              "      <td>Z</td>\n",
              "      <td>AZ</td>\n",
              "    </tr>\n",
              "    <tr>\n",
              "      <th>2</th>\n",
              "      <td>D04310017516</td>\n",
              "      <td>A</td>\n",
              "      <td>67</td>\n",
              "      <td>12260640</td>\n",
              "      <td>972.0</td>\n",
              "      <td>1057.0</td>\n",
              "      <td>1006.0</td>\n",
              "      <td>631.0</td>\n",
              "      <td>3632.0</td>\n",
              "      <td>1225.917330</td>\n",
              "      <td>7298.0</td>\n",
              "      <td>1459.6</td>\n",
              "      <td>0.839900</td>\n",
              "      <td>Y</td>\n",
              "      <td>AY</td>\n",
              "    </tr>\n",
              "    <tr>\n",
              "      <th>3</th>\n",
              "      <td>D04310017245</td>\n",
              "      <td>A</td>\n",
              "      <td>87</td>\n",
              "      <td>8676322</td>\n",
              "      <td>97.0</td>\n",
              "      <td>124.0</td>\n",
              "      <td>190.0</td>\n",
              "      <td>95.0</td>\n",
              "      <td>9.0</td>\n",
              "      <td>65.088401</td>\n",
              "      <td>515.0</td>\n",
              "      <td>103.0</td>\n",
              "      <td>0.631926</td>\n",
              "      <td>Y</td>\n",
              "      <td>AY</td>\n",
              "    </tr>\n",
              "    <tr>\n",
              "      <th>4</th>\n",
              "      <td>D04310017484</td>\n",
              "      <td>A</td>\n",
              "      <td>113</td>\n",
              "      <td>8391373</td>\n",
              "      <td>163.0</td>\n",
              "      <td>263.0</td>\n",
              "      <td>219.0</td>\n",
              "      <td>240.0</td>\n",
              "      <td>110.0</td>\n",
              "      <td>62.036280</td>\n",
              "      <td>995.0</td>\n",
              "      <td>199.0</td>\n",
              "      <td>0.311740</td>\n",
              "      <td>X</td>\n",
              "      <td>AX</td>\n",
              "    </tr>\n",
              "    <tr>\n",
              "      <th>...</th>\n",
              "      <td>...</td>\n",
              "      <td>...</td>\n",
              "      <td>...</td>\n",
              "      <td>...</td>\n",
              "      <td>...</td>\n",
              "      <td>...</td>\n",
              "      <td>...</td>\n",
              "      <td>...</td>\n",
              "      <td>...</td>\n",
              "      <td>...</td>\n",
              "      <td>...</td>\n",
              "      <td>...</td>\n",
              "      <td>...</td>\n",
              "      <td>...</td>\n",
              "      <td>...</td>\n",
              "    </tr>\n",
              "    <tr>\n",
              "      <th>18443</th>\n",
              "      <td>DB5610018972</td>\n",
              "      <td>C</td>\n",
              "      <td>11</td>\n",
              "      <td>0</td>\n",
              "      <td>0.0</td>\n",
              "      <td>0.0</td>\n",
              "      <td>0.0</td>\n",
              "      <td>416500.0</td>\n",
              "      <td>0.0</td>\n",
              "      <td>186264.462526</td>\n",
              "      <td>416500.0</td>\n",
              "      <td>83300.0</td>\n",
              "      <td>2.236068</td>\n",
              "      <td>Z</td>\n",
              "      <td>CZ</td>\n",
              "    </tr>\n",
              "    <tr>\n",
              "      <th>18444</th>\n",
              "      <td>DB5610018973</td>\n",
              "      <td>C</td>\n",
              "      <td>11</td>\n",
              "      <td>0</td>\n",
              "      <td>0.0</td>\n",
              "      <td>1000000.0</td>\n",
              "      <td>0.0</td>\n",
              "      <td>0.0</td>\n",
              "      <td>0.0</td>\n",
              "      <td>447213.595500</td>\n",
              "      <td>1000000.0</td>\n",
              "      <td>200000.0</td>\n",
              "      <td>2.236068</td>\n",
              "      <td>Z</td>\n",
              "      <td>CZ</td>\n",
              "    </tr>\n",
              "    <tr>\n",
              "      <th>18445</th>\n",
              "      <td>DB5610018975</td>\n",
              "      <td>C</td>\n",
              "      <td>11</td>\n",
              "      <td>0</td>\n",
              "      <td>0.0</td>\n",
              "      <td>1000000.0</td>\n",
              "      <td>0.0</td>\n",
              "      <td>250000.0</td>\n",
              "      <td>0.0</td>\n",
              "      <td>433012.701892</td>\n",
              "      <td>1250000.0</td>\n",
              "      <td>250000.0</td>\n",
              "      <td>1.732051</td>\n",
              "      <td>Z</td>\n",
              "      <td>CZ</td>\n",
              "    </tr>\n",
              "    <tr>\n",
              "      <th>18446</th>\n",
              "      <td>DB5610019110</td>\n",
              "      <td>C</td>\n",
              "      <td>11</td>\n",
              "      <td>0</td>\n",
              "      <td>0.0</td>\n",
              "      <td>0.0</td>\n",
              "      <td>0.0</td>\n",
              "      <td>31.0</td>\n",
              "      <td>0.0</td>\n",
              "      <td>13.863621</td>\n",
              "      <td>31.0</td>\n",
              "      <td>6.2</td>\n",
              "      <td>2.236068</td>\n",
              "      <td>Z</td>\n",
              "      <td>CZ</td>\n",
              "    </tr>\n",
              "    <tr>\n",
              "      <th>18447</th>\n",
              "      <td>DB5610019178</td>\n",
              "      <td>C</td>\n",
              "      <td>11</td>\n",
              "      <td>0</td>\n",
              "      <td>0.0</td>\n",
              "      <td>0.0</td>\n",
              "      <td>0.0</td>\n",
              "      <td>2.0</td>\n",
              "      <td>0.0</td>\n",
              "      <td>0.894427</td>\n",
              "      <td>2.0</td>\n",
              "      <td>0.4</td>\n",
              "      <td>2.236068</td>\n",
              "      <td>Z</td>\n",
              "      <td>CZ</td>\n",
              "    </tr>\n",
              "  </tbody>\n",
              "</table>\n",
              "<p>18448 rows × 15 columns</p>\n",
              "</div>"
            ],
            "text/plain": [
              "                 id abc_class  abc_rank  ...  cov_demand  xyz_class  abc_xyz_class\n",
              "0      D04310017740         A        46  ...    0.774625          Y             AY\n",
              "1      D04410017516         A        40  ...    1.017900          Z             AZ\n",
              "2      D04310017516         A        67  ...    0.839900          Y             AY\n",
              "3      D04310017245         A        87  ...    0.631926          Y             AY\n",
              "4      D04310017484         A       113  ...    0.311740          X             AX\n",
              "...             ...       ...       ...  ...         ...        ...            ...\n",
              "18443  DB5610018972         C        11  ...    2.236068          Z             CZ\n",
              "18444  DB5610018973         C        11  ...    2.236068          Z             CZ\n",
              "18445  DB5610018975         C        11  ...    1.732051          Z             CZ\n",
              "18446  DB5610019110         C        11  ...    2.236068          Z             CZ\n",
              "18447  DB5610019178         C        11  ...    2.236068          Z             CZ\n",
              "\n",
              "[18448 rows x 15 columns]"
            ]
          },
          "metadata": {
            "tags": []
          },
          "execution_count": 67
        }
      ]
    },
    {
      "cell_type": "code",
      "metadata": {
        "id": "Tafcm5KhmsRp"
      },
      "source": [
        "results[\"Centro\"]= results['id'].str[:4]\n",
        "results[\"Sku\"]= results['id'].str[4:]"
      ],
      "execution_count": null,
      "outputs": []
    },
    {
      "cell_type": "code",
      "metadata": {
        "id": "H5Z4tByZDDa-"
      },
      "source": [
        "results = results.merge(inventory_category, left_on='abc_xyz_class', right_on='abc_xyz_class')"
      ],
      "execution_count": null,
      "outputs": []
    },
    {
      "cell_type": "code",
      "metadata": {
        "id": "ASbKmLcmDPwb"
      },
      "source": [
        "results = results.merge(lista_nomes_centro, left_on='Centro', right_on='Centro')"
      ],
      "execution_count": null,
      "outputs": []
    },
    {
      "cell_type": "code",
      "metadata": {
        "id": "JYrBTN6DDiG0"
      },
      "source": [
        "results = results.merge(lista_nomes_sku, left_on='Sku', right_on='Sku')"
      ],
      "execution_count": null,
      "outputs": []
    },
    {
      "cell_type": "code",
      "metadata": {
        "id": "7l_vG4cqAAGU"
      },
      "source": [
        "results['Tipo']='Unidade'"
      ],
      "execution_count": null,
      "outputs": []
    },
    {
      "cell_type": "code",
      "metadata": {
        "id": "vD_6p2WFAAzb"
      },
      "source": [
        "results.loc[results['Nome'].str.contains('ARMAZEM'), 'Tipo'] = 'Armazém'"
      ],
      "execution_count": null,
      "outputs": []
    },
    {
      "cell_type": "code",
      "metadata": {
        "id": "e-bpTGCOHqcr"
      },
      "source": [
        "columnsTitles = ['id','Tipo','Centro','Nome','Sku','Descricao','m1','m2','m3','m4','m5','std_demand','total_demand','avg_demand','cov_demand','abc_class','abc_rank', 'xyz_class','abc_xyz_class','Comportamento de consumo','Comportamento de demanda','Confiabilidade da previsão','Modelo de abastecimento','Estoque de segurança','Controle do inventário']\n",
        "\n",
        "results = results.reindex(columns=columnsTitles)"
      ],
      "execution_count": null,
      "outputs": []
    },
    {
      "cell_type": "code",
      "metadata": {
        "colab": {
          "base_uri": "https://localhost:8080/",
          "height": 932
        },
        "id": "TMQVCnKtCr6l",
        "outputId": "8d0eb519-d7c5-4e3b-a840-bafcb0a4d5c0"
      },
      "source": [
        "results.head(-10)"
      ],
      "execution_count": null,
      "outputs": [
        {
          "output_type": "execute_result",
          "data": {
            "text/html": [
              "<div>\n",
              "<style scoped>\n",
              "    .dataframe tbody tr th:only-of-type {\n",
              "        vertical-align: middle;\n",
              "    }\n",
              "\n",
              "    .dataframe tbody tr th {\n",
              "        vertical-align: top;\n",
              "    }\n",
              "\n",
              "    .dataframe thead th {\n",
              "        text-align: right;\n",
              "    }\n",
              "</style>\n",
              "<table border=\"1\" class=\"dataframe\">\n",
              "  <thead>\n",
              "    <tr style=\"text-align: right;\">\n",
              "      <th></th>\n",
              "      <th>id</th>\n",
              "      <th>Tipo</th>\n",
              "      <th>Centro</th>\n",
              "      <th>Nome</th>\n",
              "      <th>Sku</th>\n",
              "      <th>Descricao</th>\n",
              "      <th>m1</th>\n",
              "      <th>m2</th>\n",
              "      <th>m3</th>\n",
              "      <th>m4</th>\n",
              "      <th>m5</th>\n",
              "      <th>std_demand</th>\n",
              "      <th>total_demand</th>\n",
              "      <th>avg_demand</th>\n",
              "      <th>cov_demand</th>\n",
              "      <th>abc_class</th>\n",
              "      <th>abc_rank</th>\n",
              "      <th>xyz_class</th>\n",
              "      <th>abc_xyz_class</th>\n",
              "      <th>Comportamento de consumo</th>\n",
              "      <th>Comportamento de demanda</th>\n",
              "      <th>Confiabilidade da previsão</th>\n",
              "      <th>Modelo de abastecimento</th>\n",
              "      <th>Estoque de segurança</th>\n",
              "      <th>Controle do inventário</th>\n",
              "    </tr>\n",
              "  </thead>\n",
              "  <tbody>\n",
              "    <tr>\n",
              "      <th>0</th>\n",
              "      <td>D04310017740</td>\n",
              "      <td>Armazém</td>\n",
              "      <td>D043</td>\n",
              "      <td>ARMAZEM-SP</td>\n",
              "      <td>10017740</td>\n",
              "      <td>RGT CJ TAQPATH COVI APPLIED</td>\n",
              "      <td>155.0</td>\n",
              "      <td>39.0</td>\n",
              "      <td>85.0</td>\n",
              "      <td>139.0</td>\n",
              "      <td>350.0</td>\n",
              "      <td>118.982352</td>\n",
              "      <td>768.0</td>\n",
              "      <td>153.6</td>\n",
              "      <td>0.774625</td>\n",
              "      <td>A</td>\n",
              "      <td>46</td>\n",
              "      <td>Y</td>\n",
              "      <td>AY</td>\n",
              "      <td>Alto valor de consumo</td>\n",
              "      <td>Variação da demanda previsivel</td>\n",
              "      <td>Previsão menos confiável</td>\n",
              "      <td>Automático com intervenção manual</td>\n",
              "      <td>Baixo, risco de stock out aceito</td>\n",
              "      <td>Continuo</td>\n",
              "    </tr>\n",
              "    <tr>\n",
              "      <th>1</th>\n",
              "      <td>D04310017516</td>\n",
              "      <td>Armazém</td>\n",
              "      <td>D043</td>\n",
              "      <td>ARMAZEM-SP</td>\n",
              "      <td>10017516</td>\n",
              "      <td>SOL EXTRAC RNA PCR 3X96P 48T HYBRIBIO</td>\n",
              "      <td>972.0</td>\n",
              "      <td>1057.0</td>\n",
              "      <td>1006.0</td>\n",
              "      <td>631.0</td>\n",
              "      <td>3632.0</td>\n",
              "      <td>1225.917330</td>\n",
              "      <td>7298.0</td>\n",
              "      <td>1459.6</td>\n",
              "      <td>0.839900</td>\n",
              "      <td>A</td>\n",
              "      <td>67</td>\n",
              "      <td>Y</td>\n",
              "      <td>AY</td>\n",
              "      <td>Alto valor de consumo</td>\n",
              "      <td>Variação da demanda previsivel</td>\n",
              "      <td>Previsão menos confiável</td>\n",
              "      <td>Automático com intervenção manual</td>\n",
              "      <td>Baixo, risco de stock out aceito</td>\n",
              "      <td>Continuo</td>\n",
              "    </tr>\n",
              "    <tr>\n",
              "      <th>2</th>\n",
              "      <td>D04410017516</td>\n",
              "      <td>Armazém</td>\n",
              "      <td>D044</td>\n",
              "      <td>ARMAZEM-RJ</td>\n",
              "      <td>10017516</td>\n",
              "      <td>SOL EXTRAC RNA PCR 3X96P 48T HYBRIBIO</td>\n",
              "      <td>10.0</td>\n",
              "      <td>539.0</td>\n",
              "      <td>1576.0</td>\n",
              "      <td>1727.0</td>\n",
              "      <td>4323.0</td>\n",
              "      <td>1664.266355</td>\n",
              "      <td>8175.0</td>\n",
              "      <td>1635.0</td>\n",
              "      <td>1.017900</td>\n",
              "      <td>A</td>\n",
              "      <td>40</td>\n",
              "      <td>Z</td>\n",
              "      <td>AZ</td>\n",
              "      <td>Alto valor de consumo</td>\n",
              "      <td>Demanda intermitente ou variável</td>\n",
              "      <td>Previsão ímpossivel ou não confiável</td>\n",
              "      <td>Buy to order</td>\n",
              "      <td>Nenhum</td>\n",
              "      <td>Não estocado</td>\n",
              "    </tr>\n",
              "    <tr>\n",
              "      <th>3</th>\n",
              "      <td>D04310017245</td>\n",
              "      <td>Armazém</td>\n",
              "      <td>D043</td>\n",
              "      <td>ARMAZEM-SP</td>\n",
              "      <td>10017245</td>\n",
              "      <td>RGT SARS-COV-2 192T C6800/8800 ROCHE</td>\n",
              "      <td>97.0</td>\n",
              "      <td>124.0</td>\n",
              "      <td>190.0</td>\n",
              "      <td>95.0</td>\n",
              "      <td>9.0</td>\n",
              "      <td>65.088401</td>\n",
              "      <td>515.0</td>\n",
              "      <td>103.0</td>\n",
              "      <td>0.631926</td>\n",
              "      <td>A</td>\n",
              "      <td>87</td>\n",
              "      <td>Y</td>\n",
              "      <td>AY</td>\n",
              "      <td>Alto valor de consumo</td>\n",
              "      <td>Variação da demanda previsivel</td>\n",
              "      <td>Previsão menos confiável</td>\n",
              "      <td>Automático com intervenção manual</td>\n",
              "      <td>Baixo, risco de stock out aceito</td>\n",
              "      <td>Continuo</td>\n",
              "    </tr>\n",
              "    <tr>\n",
              "      <th>4</th>\n",
              "      <td>D04310017437</td>\n",
              "      <td>Armazém</td>\n",
              "      <td>D043</td>\n",
              "      <td>ARMAZEM-SP</td>\n",
              "      <td>10017437</td>\n",
              "      <td>RGT EXTR DNA/RNA VIRAL 300UL 960R PERKIN</td>\n",
              "      <td>57.0</td>\n",
              "      <td>63.0</td>\n",
              "      <td>46.0</td>\n",
              "      <td>28.0</td>\n",
              "      <td>10.0</td>\n",
              "      <td>21.764650</td>\n",
              "      <td>204.0</td>\n",
              "      <td>40.8</td>\n",
              "      <td>0.533447</td>\n",
              "      <td>A</td>\n",
              "      <td>152</td>\n",
              "      <td>Y</td>\n",
              "      <td>AY</td>\n",
              "      <td>Alto valor de consumo</td>\n",
              "      <td>Variação da demanda previsivel</td>\n",
              "      <td>Previsão menos confiável</td>\n",
              "      <td>Automático com intervenção manual</td>\n",
              "      <td>Baixo, risco de stock out aceito</td>\n",
              "      <td>Continuo</td>\n",
              "    </tr>\n",
              "    <tr>\n",
              "      <th>...</th>\n",
              "      <td>...</td>\n",
              "      <td>...</td>\n",
              "      <td>...</td>\n",
              "      <td>...</td>\n",
              "      <td>...</td>\n",
              "      <td>...</td>\n",
              "      <td>...</td>\n",
              "      <td>...</td>\n",
              "      <td>...</td>\n",
              "      <td>...</td>\n",
              "      <td>...</td>\n",
              "      <td>...</td>\n",
              "      <td>...</td>\n",
              "      <td>...</td>\n",
              "      <td>...</td>\n",
              "      <td>...</td>\n",
              "      <td>...</td>\n",
              "      <td>...</td>\n",
              "      <td>...</td>\n",
              "      <td>...</td>\n",
              "      <td>...</td>\n",
              "      <td>...</td>\n",
              "      <td>...</td>\n",
              "      <td>...</td>\n",
              "      <td>...</td>\n",
              "    </tr>\n",
              "    <tr>\n",
              "      <th>18721</th>\n",
              "      <td>G20810014551</td>\n",
              "      <td>Armazém</td>\n",
              "      <td>G208</td>\n",
              "      <td>ARMAZEM - PADRÃO</td>\n",
              "      <td>10014551</td>\n",
              "      <td>DISCO AZITROMICINA 15MCG C/50</td>\n",
              "      <td>0.0</td>\n",
              "      <td>0.0</td>\n",
              "      <td>0.0</td>\n",
              "      <td>0.0</td>\n",
              "      <td>1.0</td>\n",
              "      <td>0.447214</td>\n",
              "      <td>1.0</td>\n",
              "      <td>0.2</td>\n",
              "      <td>2.236068</td>\n",
              "      <td>C</td>\n",
              "      <td>17578</td>\n",
              "      <td>Z</td>\n",
              "      <td>CZ</td>\n",
              "      <td>Baixo valor de consumo</td>\n",
              "      <td>Demanda intermitente ou variável</td>\n",
              "      <td>Previsão ímpossivel ou não confiável</td>\n",
              "      <td>Automático</td>\n",
              "      <td>Alto</td>\n",
              "      <td>Inspeção periódica</td>\n",
              "    </tr>\n",
              "    <tr>\n",
              "      <th>18722</th>\n",
              "      <td>DB5610018861</td>\n",
              "      <td>Armazém</td>\n",
              "      <td>DB56</td>\n",
              "      <td>ARMAZEM-COVID19</td>\n",
              "      <td>10018861</td>\n",
              "      <td>RGT MOLECULAR SARS-COV-2 EDX BIO</td>\n",
              "      <td>2576.0</td>\n",
              "      <td>4896.0</td>\n",
              "      <td>0.0</td>\n",
              "      <td>3868.0</td>\n",
              "      <td>1404.0</td>\n",
              "      <td>1940.188444</td>\n",
              "      <td>12744.0</td>\n",
              "      <td>2548.8</td>\n",
              "      <td>0.761216</td>\n",
              "      <td>C</td>\n",
              "      <td>11</td>\n",
              "      <td>Y</td>\n",
              "      <td>CY</td>\n",
              "      <td>Baixo valor de consumo</td>\n",
              "      <td>Variação da demanda previsivel</td>\n",
              "      <td>Previsão menos confiável</td>\n",
              "      <td>Automático</td>\n",
              "      <td>Alto</td>\n",
              "      <td>Inspeção periódica</td>\n",
              "    </tr>\n",
              "    <tr>\n",
              "      <th>18723</th>\n",
              "      <td>DB5610003681</td>\n",
              "      <td>Armazém</td>\n",
              "      <td>DB56</td>\n",
              "      <td>ARMAZEM-COVID19</td>\n",
              "      <td>10003681</td>\n",
              "      <td>PL 96 POCOS RA 0.1ML C/24 APPLIED</td>\n",
              "      <td>15.0</td>\n",
              "      <td>0.0</td>\n",
              "      <td>0.0</td>\n",
              "      <td>0.0</td>\n",
              "      <td>0.0</td>\n",
              "      <td>6.708204</td>\n",
              "      <td>15.0</td>\n",
              "      <td>3.0</td>\n",
              "      <td>2.236068</td>\n",
              "      <td>C</td>\n",
              "      <td>11</td>\n",
              "      <td>Z</td>\n",
              "      <td>CZ</td>\n",
              "      <td>Baixo valor de consumo</td>\n",
              "      <td>Demanda intermitente ou variável</td>\n",
              "      <td>Previsão ímpossivel ou não confiável</td>\n",
              "      <td>Automático</td>\n",
              "      <td>Alto</td>\n",
              "      <td>Inspeção periódica</td>\n",
              "    </tr>\n",
              "    <tr>\n",
              "      <th>18724</th>\n",
              "      <td>DB5610017411</td>\n",
              "      <td>Armazém</td>\n",
              "      <td>DB56</td>\n",
              "      <td>ARMAZEM-COVID19</td>\n",
              "      <td>10017411</td>\n",
              "      <td>RGT EXTR DNA/RNA 96P PERKIN ELMER</td>\n",
              "      <td>180.0</td>\n",
              "      <td>0.0</td>\n",
              "      <td>0.0</td>\n",
              "      <td>330.0</td>\n",
              "      <td>180.0</td>\n",
              "      <td>140.071410</td>\n",
              "      <td>690.0</td>\n",
              "      <td>138.0</td>\n",
              "      <td>1.015010</td>\n",
              "      <td>C</td>\n",
              "      <td>11</td>\n",
              "      <td>Z</td>\n",
              "      <td>CZ</td>\n",
              "      <td>Baixo valor de consumo</td>\n",
              "      <td>Demanda intermitente ou variável</td>\n",
              "      <td>Previsão ímpossivel ou não confiável</td>\n",
              "      <td>Automático</td>\n",
              "      <td>Alto</td>\n",
              "      <td>Inspeção periódica</td>\n",
              "    </tr>\n",
              "    <tr>\n",
              "      <th>18725</th>\n",
              "      <td>DB5610017412</td>\n",
              "      <td>Armazém</td>\n",
              "      <td>DB56</td>\n",
              "      <td>ARMAZEM-COVID19</td>\n",
              "      <td>10017412</td>\n",
              "      <td>RGT TAMP EXTR DNA/RNA 96P PERKIN ELMER</td>\n",
              "      <td>180.0</td>\n",
              "      <td>0.0</td>\n",
              "      <td>0.0</td>\n",
              "      <td>330.0</td>\n",
              "      <td>180.0</td>\n",
              "      <td>140.071410</td>\n",
              "      <td>690.0</td>\n",
              "      <td>138.0</td>\n",
              "      <td>1.015010</td>\n",
              "      <td>C</td>\n",
              "      <td>11</td>\n",
              "      <td>Z</td>\n",
              "      <td>CZ</td>\n",
              "      <td>Baixo valor de consumo</td>\n",
              "      <td>Demanda intermitente ou variável</td>\n",
              "      <td>Previsão ímpossivel ou não confiável</td>\n",
              "      <td>Automático</td>\n",
              "      <td>Alto</td>\n",
              "      <td>Inspeção periódica</td>\n",
              "    </tr>\n",
              "  </tbody>\n",
              "</table>\n",
              "<p>18726 rows × 25 columns</p>\n",
              "</div>"
            ],
            "text/plain": [
              "                 id  ... Controle do inventário\n",
              "0      D04310017740  ...               Continuo\n",
              "1      D04310017516  ...               Continuo\n",
              "2      D04410017516  ...           Não estocado\n",
              "3      D04310017245  ...               Continuo\n",
              "4      D04310017437  ...               Continuo\n",
              "...             ...  ...                    ...\n",
              "18721  G20810014551  ...     Inspeção periódica\n",
              "18722  DB5610018861  ...     Inspeção periódica\n",
              "18723  DB5610003681  ...     Inspeção periódica\n",
              "18724  DB5610017411  ...     Inspeção periódica\n",
              "18725  DB5610017412  ...     Inspeção periódica\n",
              "\n",
              "[18726 rows x 25 columns]"
            ]
          },
          "metadata": {
            "tags": []
          },
          "execution_count": 75
        }
      ]
    },
    {
      "cell_type": "code",
      "metadata": {
        "id": "fCKZXnJNtGj-"
      },
      "source": [
        " results.to_csv('inventory_classification.csv',sep=\";\",decimal=',')"
      ],
      "execution_count": null,
      "outputs": []
    }
  ]
}